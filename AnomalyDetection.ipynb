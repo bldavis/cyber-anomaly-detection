{
 "cells": [
  {
   "cell_type": "markdown",
   "id": "580ba57f-3f19-43b8-b175-0f48623feb33",
   "metadata": {},
   "source": [
    "# FishTech DS Skills Challenge"
   ]
  },
  {
   "cell_type": "markdown",
   "id": "346c467d-6007-46cc-a39b-ee0d5d225d58",
   "metadata": {},
   "source": [
    "Below you will find a link to another publicly available dataset, Unifed Host and Network Data Set, from the Advanced Research in Cyber Systems containing additional links for the download of the two data sources:  network and host events.  The goal is to complete as much as possible and add as much of your personality as you can.  Please use Day 90 from both datasets for your model.  If the two datasets are still too large, please select a random subset for your analysis [i.e. 1 million events, 10 million events, etc.]\n",
    "\n",
    " \n",
    "\n",
    "https://csr.lanl.gov/data/2017/\n",
    "\n",
    " \n",
    "\n",
    "Please send finished results over to me via email by Monday, December 6th, at 10:00 AM central.\n",
    "\n",
    " \n",
    "\n",
    "The team will review your results, and you can expect a response from me by the end of next week.\n",
    "\n",
    " \n",
    "\n",
    "Summary\n",
    "\n",
    "Using Python, create a simple data model and algorithm for identifying anomalous or risky activity.\n",
    "\n",
    " \n",
    "\n",
    "Minimum Requirements\n",
    "\n",
    "   - Code for ETL, joins, and random sample [if necessary] of the two data sources\n",
    "   - Standard data model\n",
    "   - Algorithm utilizing machine learning function(s) for identifying anomalous or risky activity\n",
    "   - Visualizations and descriptions of the steps taken to identify relevant activity\n",
    "   - Concise summary for using the various Python packages, overall methodology, and results\n",
    "\n",
    " \n",
    "\n",
    "Bonus Points but Not Required\n",
    "\n",
    "   - Risk score and methodology for all hosts\n",
    "   - Concise presentation slides for all completed work\n",
    "\n",
    " \n",
    "\n",
    "When You are Finished\n",
    "\n",
    "Please send me the links to the Git repo(s) containing your work.  Again, reach out to me if you have any questions between now and your submission.\n",
    "\n",
    " "
   ]
  },
  {
   "cell_type": "markdown",
   "id": "cd329724-afbd-4b82-ac15-9c52db2620d1",
   "metadata": {},
   "source": [
    "# Agenda\n",
    "\n",
    "This is a detailed coding walkthrough of the approach taken to identify anomalous activity from the net flow and host event data for day=90 as described in the challenge description in the previous section. Over the course of this document, I will demonstrate a scalable and effective method of detecting outlier behavior with respect to other similar machines or clusters. \n",
    "\n",
    "This document consists of four main parts:\n",
    "- [Data Ingestion And parsing](#DataParsing)\n",
    "- [Exploratory Analysis and Observations](#EDA)\n",
    "- [Data Model And Feature Extraction](#DataModel)\n",
    "- [Unsupervised Outlier Detection Methodology](#ML)\n",
    "\n",
    "Along with this document, a very high level \"Executive Summary\" was produced that excludes most of the fun details. "
   ]
  },
  {
   "cell_type": "markdown",
   "id": "3b4cfca7-465e-4b8f-8c6e-08350f6e7ffd",
   "metadata": {},
   "source": [
    "<a id='DataParsing'></a>\n",
    "# Data Ingestion And parsing\n",
    "\n",
    "This data is pretty big. I'm working in a Jupyter All Spark  docker environment on my personal machine which will allow for me to hopefully parallelize as many actions as possible and use spark sql for querying. https://jupyter-docker-stacks.readthedocs.io/en/latest/index.htmlhttps://jupyter-docker-stacks.readthedocs.io/en/latest/index.html\n",
    "\n",
    "I'm going start by ingesting and translating the files those to spark dataframes and then saving to partitioned parquet files. These will be faster to read and query from that point on. \n",
    "\n",
    "\n",
    "Below is initial imports setting some jupyter setttings that I prefer as well as base packages and setting up the spark context.\n"
   ]
  },
  {
   "cell_type": "code",
   "execution_count": 1,
   "id": "dc27903b-9c66-4777-a5c2-59d13322953e",
   "metadata": {},
   "outputs": [],
   "source": [
    "from IPython.core.interactiveshell import InteractiveShell\n",
    "\n",
    "InteractiveShell.ast_node_interactivity = \"all\"\n",
    "\n",
    "from pathlib import Path\n",
    "\n",
    "import numpy as np\n",
    "import pandas as pd\n",
    "\n",
    "\n",
    "\n",
    "import jedi\n",
    "\n",
    "jedi.settings.call_signatures_validity = 5.0\n",
    "jedi.settings.add_bracket_after_function = True\n",
    "jedi.settings.case_insensitive_completion = True"
   ]
  },
  {
   "cell_type": "code",
   "execution_count": 2,
   "id": "4955e286-5048-468a-8ce8-9333497cacd3",
   "metadata": {},
   "outputs": [
    {
     "name": "stdout",
     "output_type": "stream",
     "text": [
      "\n",
      "\n"
     ]
    },
    {
     "name": "stderr",
     "output_type": "stream",
     "text": [
      "WARNING: An illegal reflective access operation has occurred\n",
      "WARNING: Illegal reflective access by org.apache.spark.unsafe.Platform (file:/usr/local/spark-3.2.0-bin-hadoop3.2/jars/spark-unsafe_2.12-3.2.0.jar) to constructor java.nio.DirectByteBuffer(long,int)\n",
      "WARNING: Please consider reporting this to the maintainers of org.apache.spark.unsafe.Platform\n",
      "WARNING: Use --illegal-access=warn to enable warnings of further illegal reflective access operations\n",
      "WARNING: All illegal access operations will be denied in a future release\n",
      "Using Spark's default log4j profile: org/apache/spark/log4j-defaults.properties\n",
      "Setting default log level to \"WARN\".\n",
      "To adjust logging level use sc.setLogLevel(newLevel). For SparkR, use setLogLevel(newLevel).\n",
      "21/12/05 23:43:23 WARN NativeCodeLoader: Unable to load native-hadoop library for your platform... using builtin-java classes where applicable\n"
     ]
    }
   ],
   "source": [
    "import pyspark\n",
    "\n",
    "# spark = pysspark.sql.SparkSession.builder.master(\"local[6]\").appName(\"Hello World\").getOrCreate()\n",
    "# The local[6]\" parameter specicifies to connect to the local spark instance but with 6 threads for the executor. Many fast!\n",
    "\n",
    "try:\n",
    "    sc.stop()\n",
    "except:\n",
    "    print(\"\")\n",
    "try:\n",
    "    spark.stop()\n",
    "except:\n",
    "    print(\"\")\n",
    "\n",
    "config = pyspark.SparkConf().setAll(\n",
    "    [\n",
    "        (\"spark.executor.memory\", \"32g\"),\n",
    "        (\"spark.executor.cores\", \"20\"),\n",
    "        (\"spark.cores.max\", \"20\"),\n",
    "        (\"spark.driver.memory\", \"32g\"),\n",
    "        (\"spark.sql.warehouse.dir\", r\"/home/jovyan/work/sparkData\"),\n",
    "    ]\n",
    ")\n",
    "\n",
    "sc = pyspark.SparkContext(conf=config)\n",
    "\n",
    "spark = pyspark.sql.SparkSession.builder.config(conf=config).getOrCreate()"
   ]
  },
  {
   "cell_type": "code",
   "execution_count": 24,
   "id": "24db15e1-01f4-4a2f-a8ac-9f433927c800",
   "metadata": {},
   "outputs": [],
   "source": [
    "from pyspark.sql.types import IntegerType, LongType, StringType, StructField, StructType\n",
    "\n",
    "schema = StructType(\n",
    "    [\n",
    "        StructField(\"Time\", IntegerType(), True),\n",
    "        StructField(\"Duration\", IntegerType(), True),\n",
    "        StructField(\"SrcDevice\", StringType(), True),\n",
    "        StructField(\"DstDevice\", StringType(), True),\n",
    "        StructField(\"Protocol\", StringType(), True),\n",
    "        StructField(\"SrcPort\", StringType(), True),\n",
    "        StructField(\"DstPort\", StringType(), True),\n",
    "        StructField(\"SrcPackets\", LongType(), True),\n",
    "        StructField(\"DstPackets\", LongType(), True),\n",
    "        StructField(\"SrcBytes\", LongType(), True),\n",
    "        StructField(\"DstBytes\", LongType(), True),\n",
    "    ]\n",
    ")\n",
    "netflow = spark.read.csv(path=\"Data/netflow_day-90\", schema=schema, header=False)"
   ]
  },
  {
   "cell_type": "code",
   "execution_count": 25,
   "id": "01387534-7555-4aa7-867c-d4fd53416dfa",
   "metadata": {},
   "outputs": [
    {
     "name": "stdout",
     "output_type": "stream",
     "text": [
      "+-------+--------+----------+----------+--------+---------+-------+----------+----------+--------+--------+\n",
      "|   Time|Duration| SrcDevice| DstDevice|Protocol|  SrcPort|DstPort|SrcPackets|DstPackets|SrcBytes|DstBytes|\n",
      "+-------+--------+----------+----------+--------+---------+-------+----------+----------+--------+--------+\n",
      "|7689600|       0|Comp580697|Comp275646|      17|Port08290|     53|         1|         0|      75|       0|\n",
      "|7689600|       0|Comp580697|Comp275646|      17|Port81132|     53|         1|         0|      75|       0|\n",
      "|7689600|       0|Comp580697|Comp275646|      17|Port21353|     53|         1|         0|      75|       0|\n",
      "+-------+--------+----------+----------+--------+---------+-------+----------+----------+--------+--------+\n",
      "only showing top 3 rows\n",
      "\n"
     ]
    }
   ],
   "source": [
    "netflow.show(3)"
   ]
  },
  {
   "cell_type": "code",
   "execution_count": 33,
   "id": "a5d566e8-1be3-4876-a4f2-981399dadd90",
   "metadata": {},
   "outputs": [],
   "source": [
    "netflow = netflow.repartition(30)"
   ]
  },
  {
   "cell_type": "markdown",
   "id": "c0ebcde7-1133-41d5-bbca-87837c490790",
   "metadata": {},
   "source": [
    "This essentially breaks the single large file into lots of smaller chunks that can then be saved to parquet which will retain those partitions as well as store the data in columnar format which is generally better for feature engineering and aggregate type queries. Spark suggests aiming for 100-1000 mb per partion. "
   ]
  },
  {
   "cell_type": "code",
   "execution_count": 36,
   "id": "44023fa3-160c-4fbb-a0cf-93bc303b764b",
   "metadata": {},
   "outputs": [
    {
     "name": "stderr",
     "output_type": "stream",
     "text": [
      "                                                                                \r"
     ]
    },
    {
     "name": "stdout",
     "output_type": "stream",
     "text": [
      "CPU times: user 67.6 ms, sys: 16.5 ms, total: 84 ms\n",
      "Wall time: 1min 51s\n"
     ]
    }
   ],
   "source": [
    "%%time\n",
    "netflow.write.parquet(\"TransformedData/netflow.parquet\", mode=\"overwrite\")"
   ]
  },
  {
   "cell_type": "markdown",
   "id": "21f656bf-d802-4ea7-879e-8ac1d03bc17d",
   "metadata": {},
   "source": [
    "Since we have this figured out we can roll it all into one line of code for hostEvents. Also, since hostEvents is Json, Spark can infer the schema.\n",
    "\n",
    "Another interesting piece of information. After parsing these to parquet, they are significantly smaller size on disk. From about 8Gb each file to: hostEvent = 623MB. Netflow = 2.08 GB. "
   ]
  },
  {
   "cell_type": "code",
   "execution_count": 37,
   "id": "06857a98-de91-49f9-924b-c8ccb8986ce4",
   "metadata": {},
   "outputs": [
    {
     "name": "stderr",
     "output_type": "stream",
     "text": [
      "                                                                                \r"
     ]
    }
   ],
   "source": [
    "hostEvents = (\n",
    "    spark.read.json(path=\"Data/wls_day-90\")\n",
    "    .repartition(30)\n",
    "    .write.parquet(\"TransformedData/hostEvent.parquet\", mode=\"overwrite\")\n",
    ")"
   ]
  },
  {
   "cell_type": "code",
   "execution_count": 3,
   "id": "61e35741-9be5-4ac3-a33f-6e61901c0382",
   "metadata": {},
   "outputs": [
    {
     "name": "stdout",
     "output_type": "stream",
     "text": [
      "root\n",
      " |-- Time: integer (nullable = true)\n",
      " |-- Duration: integer (nullable = true)\n",
      " |-- SrcDevice: string (nullable = true)\n",
      " |-- DstDevice: string (nullable = true)\n",
      " |-- Protocol: string (nullable = true)\n",
      " |-- SrcPort: string (nullable = true)\n",
      " |-- DstPort: string (nullable = true)\n",
      " |-- SrcPackets: long (nullable = true)\n",
      " |-- DstPackets: long (nullable = true)\n",
      " |-- SrcBytes: long (nullable = true)\n",
      " |-- DstBytes: long (nullable = true)\n",
      "\n"
     ]
    }
   ],
   "source": [
    "netflow = spark.read.parquet(\"TransformedData/netflow.parquet\")\n",
    "netflow.printSchema()"
   ]
  },
  {
   "cell_type": "code",
   "execution_count": 4,
   "id": "b636b219-fdbe-4647-abc4-56717dd59692",
   "metadata": {},
   "outputs": [
    {
     "name": "stderr",
     "output_type": "stream",
     "text": [
      "                                                                                \r"
     ]
    },
    {
     "data": {
      "text/plain": [
       "135710585"
      ]
     },
     "execution_count": 4,
     "metadata": {},
     "output_type": "execute_result"
    }
   ],
   "source": [
    "netflow.count()"
   ]
  },
  {
   "cell_type": "code",
   "execution_count": 5,
   "id": "44ab3aa8-8801-4f37-8e0a-088e6e5f8925",
   "metadata": {},
   "outputs": [
    {
     "name": "stderr",
     "output_type": "stream",
     "text": [
      "[Stage 4:>                                                          (0 + 1) / 1]\r"
     ]
    },
    {
     "name": "stdout",
     "output_type": "stream",
     "text": [
      "+-------+--------+-------------------+-------------------+--------+---------+---------+----------+----------+--------+--------+\n",
      "|   Time|Duration|          SrcDevice|          DstDevice|Protocol|  SrcPort|  DstPort|SrcPackets|DstPackets|SrcBytes|DstBytes|\n",
      "+-------+--------+-------------------+-------------------+--------+---------+---------+----------+----------+--------+--------+\n",
      "|7690539|     287|         Comp257274|         Comp804839|       6|Port82376|Port85926|         1|         1|      60|      46|\n",
      "|7689842|       0|         Comp012725|         Comp275646|      17|Port84219|       53|         1|         0|     118|       0|\n",
      "|7690290|       1|         Comp003990|         Comp852539|       6|Port08828|      443|         0|        17|       0|   18302|\n",
      "|7690300|     496|         Comp107130|         Comp309567|       6|Port56978|      443|        10|         6|    1581|     834|\n",
      "|7690905|     301|         Comp965575|         Comp356260|       6|Port06668|Port14274|         4|         2|     210|     116|\n",
      "|7690811|       0|         Comp030334|         Comp092985|       6|Port06654|Port21982|         4|         3|     216|     164|\n",
      "|7690292|       0|         Comp216639|EnterpriseAppServer|       6|Port80909|       80|        37|        66|    2272|   95291|\n",
      "|7690582|       0|EnterpriseAppServer|         Comp576031|      17|Port33842|      514|         1|         0|     644|       0|\n",
      "|7689699|       0|         Comp242509|         Comp275646|      17|Port95372|       53|         1|         0|      61|       0|\n",
      "|7690937|       0|         Comp313338|         Comp186884|       6|Port57908|      443|         0|        21|       0|    3898|\n",
      "+-------+--------+-------------------+-------------------+--------+---------+---------+----------+----------+--------+--------+\n",
      "only showing top 10 rows\n",
      "\n"
     ]
    },
    {
     "name": "stderr",
     "output_type": "stream",
     "text": [
      "                                                                                \r"
     ]
    }
   ],
   "source": [
    "netflow.show(10)"
   ]
  },
  {
   "cell_type": "markdown",
   "id": "dbb9466c-853e-4acb-a2df-5dbf328f0c2b",
   "metadata": {},
   "source": [
    "Quick check to make sure the long data types were big enough for the number of bytes transferred. "
   ]
  },
  {
   "cell_type": "code",
   "execution_count": 6,
   "id": "cd1a2eaf-17be-446b-8ac4-d3f246b5930e",
   "metadata": {},
   "outputs": [],
   "source": [
    "netflow.createOrReplaceGlobalTempView(\"netflow\")"
   ]
  },
  {
   "cell_type": "code",
   "execution_count": 7,
   "id": "515b427c-04ba-45a1-b33e-6b7dca6ddd8b",
   "metadata": {},
   "outputs": [
    {
     "name": "stderr",
     "output_type": "stream",
     "text": [
      "[Stage 5:=============================================>           (24 + 6) / 30]\r"
     ]
    },
    {
     "name": "stdout",
     "output_type": "stream",
     "text": [
      "+-------------+---------------+\n",
      "|max(SrcBytes)|max(DstPackets)|\n",
      "+-------------+---------------+\n",
      "|  31569888509|       77760703|\n",
      "+-------------+---------------+\n",
      "\n"
     ]
    },
    {
     "name": "stderr",
     "output_type": "stream",
     "text": [
      "                                                                                \r"
     ]
    }
   ],
   "source": [
    "sqlQuery = \"\"\"select max(SrcBytes), max(DstPackets) from global_temp.netflow\"\"\"\n",
    "spark.sql(sqlQuery).show()"
   ]
  },
  {
   "cell_type": "code",
   "execution_count": 8,
   "id": "8ade6a63-2e15-4a52-8eca-9dda5ba6dba7",
   "metadata": {},
   "outputs": [
    {
     "name": "stdout",
     "output_type": "stream",
     "text": [
      "root\n",
      " |-- AuthenticationPackage: string (nullable = true)\n",
      " |-- Destination: string (nullable = true)\n",
      " |-- DomainName: string (nullable = true)\n",
      " |-- EventID: long (nullable = true)\n",
      " |-- FailureReason: string (nullable = true)\n",
      " |-- LogHost: string (nullable = true)\n",
      " |-- LogonID: string (nullable = true)\n",
      " |-- LogonType: long (nullable = true)\n",
      " |-- LogonTypeDescription: string (nullable = true)\n",
      " |-- ParentProcessID: string (nullable = true)\n",
      " |-- ParentProcessName: string (nullable = true)\n",
      " |-- ProcessID: string (nullable = true)\n",
      " |-- ProcessName: string (nullable = true)\n",
      " |-- ServiceName: string (nullable = true)\n",
      " |-- Source: string (nullable = true)\n",
      " |-- Status: string (nullable = true)\n",
      " |-- SubjectDomainName: string (nullable = true)\n",
      " |-- SubjectLogonID: string (nullable = true)\n",
      " |-- SubjectUserName: string (nullable = true)\n",
      " |-- Time: long (nullable = true)\n",
      " |-- UserName: string (nullable = true)\n",
      "\n"
     ]
    }
   ],
   "source": [
    "hostEvents = spark.read.parquet(\"TransformedData/hostEvent.parquet\")\n",
    "hostEvents.printSchema()"
   ]
  },
  {
   "cell_type": "code",
   "execution_count": 9,
   "id": "32ba1146-4073-4fc6-aae8-a5f376ef0d3a",
   "metadata": {},
   "outputs": [],
   "source": [
    "hostEvents.createOrReplaceGlobalTempView(\"hostEvents\")"
   ]
  },
  {
   "cell_type": "code",
   "execution_count": 10,
   "id": "1fbbf995-ec4a-4cdb-9517-e7ad2a668580",
   "metadata": {},
   "outputs": [
    {
     "data": {
      "text/plain": [
       "39876807"
      ]
     },
     "execution_count": 10,
     "metadata": {},
     "output_type": "execute_result"
    }
   ],
   "source": [
    "hostEvents.count()"
   ]
  },
  {
   "cell_type": "code",
   "execution_count": 11,
   "id": "2efdfa22-bb1d-4021-b136-82fc06681140",
   "metadata": {},
   "outputs": [
    {
     "data": {
      "text/html": [
       "<div>\n",
       "<style scoped>\n",
       "    .dataframe tbody tr th:only-of-type {\n",
       "        vertical-align: middle;\n",
       "    }\n",
       "\n",
       "    .dataframe tbody tr th {\n",
       "        vertical-align: top;\n",
       "    }\n",
       "\n",
       "    .dataframe thead th {\n",
       "        text-align: right;\n",
       "    }\n",
       "</style>\n",
       "<table border=\"1\" class=\"dataframe\">\n",
       "  <thead>\n",
       "    <tr style=\"text-align: right;\">\n",
       "      <th></th>\n",
       "      <th>0</th>\n",
       "      <th>1</th>\n",
       "    </tr>\n",
       "  </thead>\n",
       "  <tbody>\n",
       "    <tr>\n",
       "      <th>AuthenticationPackage</th>\n",
       "      <td>None</td>\n",
       "      <td>NTLM</td>\n",
       "    </tr>\n",
       "    <tr>\n",
       "      <th>Destination</th>\n",
       "      <td>None</td>\n",
       "      <td>None</td>\n",
       "    </tr>\n",
       "    <tr>\n",
       "      <th>DomainName</th>\n",
       "      <td>Domain001</td>\n",
       "      <td>Domain001</td>\n",
       "    </tr>\n",
       "    <tr>\n",
       "      <th>EventID</th>\n",
       "      <td>4688</td>\n",
       "      <td>4624</td>\n",
       "    </tr>\n",
       "    <tr>\n",
       "      <th>FailureReason</th>\n",
       "      <td>None</td>\n",
       "      <td>None</td>\n",
       "    </tr>\n",
       "    <tr>\n",
       "      <th>LogHost</th>\n",
       "      <td>Comp939065</td>\n",
       "      <td>Comp894088</td>\n",
       "    </tr>\n",
       "    <tr>\n",
       "      <th>LogonID</th>\n",
       "      <td>0x3e7</td>\n",
       "      <td>0x7b79fa7f</td>\n",
       "    </tr>\n",
       "    <tr>\n",
       "      <th>LogonType</th>\n",
       "      <td>NaN</td>\n",
       "      <td>3.0</td>\n",
       "    </tr>\n",
       "    <tr>\n",
       "      <th>LogonTypeDescription</th>\n",
       "      <td>None</td>\n",
       "      <td>Network</td>\n",
       "    </tr>\n",
       "    <tr>\n",
       "      <th>ParentProcessID</th>\n",
       "      <td>0x2d08</td>\n",
       "      <td>None</td>\n",
       "    </tr>\n",
       "    <tr>\n",
       "      <th>ParentProcessName</th>\n",
       "      <td>cmd</td>\n",
       "      <td>None</td>\n",
       "    </tr>\n",
       "    <tr>\n",
       "      <th>ProcessID</th>\n",
       "      <td>0x2544</td>\n",
       "      <td>None</td>\n",
       "    </tr>\n",
       "    <tr>\n",
       "      <th>ProcessName</th>\n",
       "      <td>Proc336322.exe</td>\n",
       "      <td>None</td>\n",
       "    </tr>\n",
       "    <tr>\n",
       "      <th>ServiceName</th>\n",
       "      <td>None</td>\n",
       "      <td>None</td>\n",
       "    </tr>\n",
       "    <tr>\n",
       "      <th>Source</th>\n",
       "      <td>None</td>\n",
       "      <td>Comp807801</td>\n",
       "    </tr>\n",
       "    <tr>\n",
       "      <th>Status</th>\n",
       "      <td>None</td>\n",
       "      <td>None</td>\n",
       "    </tr>\n",
       "    <tr>\n",
       "      <th>SubjectDomainName</th>\n",
       "      <td>None</td>\n",
       "      <td>None</td>\n",
       "    </tr>\n",
       "    <tr>\n",
       "      <th>SubjectLogonID</th>\n",
       "      <td>None</td>\n",
       "      <td>None</td>\n",
       "    </tr>\n",
       "    <tr>\n",
       "      <th>SubjectUserName</th>\n",
       "      <td>None</td>\n",
       "      <td>None</td>\n",
       "    </tr>\n",
       "    <tr>\n",
       "      <th>Time</th>\n",
       "      <td>7690642</td>\n",
       "      <td>7690246</td>\n",
       "    </tr>\n",
       "    <tr>\n",
       "      <th>UserName</th>\n",
       "      <td>Comp939065$</td>\n",
       "      <td>AppService</td>\n",
       "    </tr>\n",
       "  </tbody>\n",
       "</table>\n",
       "</div>"
      ],
      "text/plain": [
       "                                    0           1\n",
       "AuthenticationPackage            None        NTLM\n",
       "Destination                      None        None\n",
       "DomainName                  Domain001   Domain001\n",
       "EventID                          4688        4624\n",
       "FailureReason                    None        None\n",
       "LogHost                    Comp939065  Comp894088\n",
       "LogonID                         0x3e7  0x7b79fa7f\n",
       "LogonType                         NaN         3.0\n",
       "LogonTypeDescription             None     Network\n",
       "ParentProcessID                0x2d08        None\n",
       "ParentProcessName                 cmd        None\n",
       "ProcessID                      0x2544        None\n",
       "ProcessName            Proc336322.exe        None\n",
       "ServiceName                      None        None\n",
       "Source                           None  Comp807801\n",
       "Status                           None        None\n",
       "SubjectDomainName                None        None\n",
       "SubjectLogonID                   None        None\n",
       "SubjectUserName                  None        None\n",
       "Time                          7690642     7690246\n",
       "UserName                  Comp939065$  AppService"
      ]
     },
     "execution_count": 11,
     "metadata": {},
     "output_type": "execute_result"
    }
   ],
   "source": [
    "hostEvents.limit(2).toPandas().T"
   ]
  },
  {
   "cell_type": "markdown",
   "id": "7c601397-05f2-4f3b-8a47-f16ef8f19faa",
   "metadata": {},
   "source": [
    "<a id='EDA'></a>\n",
    "# Exploratory Analysis and Observations\n",
    "Will do some rudimentary EDA to familiarize ourselves with the data sets which can help guide next steps. \n",
    "\n",
    "What event types occurr the most and with what status, If any? "
   ]
  },
  {
   "cell_type": "code",
   "execution_count": 12,
   "id": "d808d497-96a9-4631-b4f4-61817300923d",
   "metadata": {},
   "outputs": [
    {
     "name": "stderr",
     "output_type": "stream",
     "text": [
      "[Stage 13:============================================>           (24 + 6) / 30]\r"
     ]
    },
    {
     "name": "stdout",
     "output_type": "stream",
     "text": [
      "+-------+----------+--------+\n",
      "|eventID|    Status|  ncount|\n",
      "+-------+----------+--------+\n",
      "|   4688|      null|12257481|\n",
      "|   4624|      null|10105389|\n",
      "|   4634|      null| 9842739|\n",
      "|   4672|      null| 2997921|\n",
      "|   4776|       0x0| 1919146|\n",
      "|   4769|       0x0| 1250783|\n",
      "|   4648|      null|  650141|\n",
      "|   4768|       0x0|  449943|\n",
      "|   4776|0xc0000234|  154199|\n",
      "|   4625|      null|  135130|\n",
      "|   4776|0xc000006a|   63240|\n",
      "|   4776|0xc0000064|   44697|\n",
      "|   4774|      null|    1605|\n",
      "|   4803|      null|     952|\n",
      "|   4802|      null|     948|\n",
      "|   4800|      null|     751|\n",
      "|   4801|      null|     694|\n",
      "|   4647|      null|     362|\n",
      "|   4776|0xc0000199|     306|\n",
      "|   4776|0xc0000072|     132|\n",
      "|   4608|      null|      84|\n",
      "|   4770|      null|      83|\n",
      "|   1100|      null|      76|\n",
      "|   4609|      null|       5|\n",
      "+-------+----------+--------+\n",
      "\n"
     ]
    },
    {
     "name": "stderr",
     "output_type": "stream",
     "text": [
      "                                                                                \r"
     ]
    }
   ],
   "source": [
    "sqlQuery = \"\"\"\n",
    "select\n",
    "\th.eventID,\n",
    "\th.Status,\n",
    "\tcount(*) ncount\n",
    "from\n",
    "\tglobal_temp.hostEvents h\n",
    "group by\n",
    "\th.EventID,\n",
    "\th.status\n",
    "order by\n",
    "\tncount desc\"\"\"\n",
    "spark.sql(sqlQuery).show(100)"
   ]
  },
  {
   "cell_type": "markdown",
   "id": "023bf3d3-74e0-4c0d-bb7d-b334a41d46b1",
   "metadata": {},
   "source": [
    "Are there any hosts with large number of users associated with them? Do those make sense? "
   ]
  },
  {
   "cell_type": "code",
   "execution_count": 13,
   "id": "7169622c-635c-4da4-979b-54ca042118cd",
   "metadata": {},
   "outputs": [
    {
     "name": "stderr",
     "output_type": "stream",
     "text": [
      "[Stage 16:====================================================>   (28 + 2) / 30]\r"
     ]
    },
    {
     "name": "stdout",
     "output_type": "stream",
     "text": [
      "+-------------------+--------+---------+\n",
      "|            loghost|  ncount|userCount|\n",
      "+-------------------+--------+---------+\n",
      "|    ActiveDirectory|14942261|    13945|\n",
      "|         Comp370444|  225464|     4347|\n",
      "|         Comp915658|   22029|     1864|\n",
      "|         Comp546675|    9318|     1090|\n",
      "|         Comp056180|    1991|      518|\n",
      "|         Comp916004| 3961012|      368|\n",
      "|         Comp081330|  141893|      297|\n",
      "|         Comp457448|   14436|      234|\n",
      "|EnterpriseAppServer| 2830324|      230|\n",
      "|         Comp939275|   52160|      218|\n",
      "+-------------------+--------+---------+\n",
      "only showing top 10 rows\n",
      "\n"
     ]
    },
    {
     "name": "stderr",
     "output_type": "stream",
     "text": [
      "                                                                                \r"
     ]
    }
   ],
   "source": [
    "sqlQuery = \"\"\"\n",
    "select\n",
    "\th.loghost,\n",
    "\tcount(1) as ncount,\n",
    "\tcount(distinct h.username) as userCount\n",
    "from\n",
    "\tglobal_temp.hostEvents h\n",
    "group by\n",
    "\th.loghost\n",
    "order by\n",
    "\tuserCount desc\"\"\"\n",
    "spark.sql(sqlQuery).show(10)"
   ]
  },
  {
   "cell_type": "markdown",
   "id": "b5a5cf7d-04c4-48a1-94d2-3c00a54b6ab4",
   "metadata": {},
   "source": [
    "Just a quick look at how many hosts, domains and users there are in this dataset. "
   ]
  },
  {
   "cell_type": "code",
   "execution_count": 14,
   "id": "d529edbe-a58f-459c-be40-c5f03eed1855",
   "metadata": {},
   "outputs": [
    {
     "name": "stderr",
     "output_type": "stream",
     "text": [
      "[Stage 22:============================================>           (24 + 6) / 30]\r"
     ]
    },
    {
     "name": "stdout",
     "output_type": "stream",
     "text": [
      "+---------+-----------+---------+\n",
      "|hostCount|domainCount|userCount|\n",
      "+---------+-----------+---------+\n",
      "|     7774|        142|    14398|\n",
      "+---------+-----------+---------+\n",
      "\n"
     ]
    },
    {
     "name": "stderr",
     "output_type": "stream",
     "text": [
      "                                                                                \r"
     ]
    }
   ],
   "source": [
    "sqlQuery = \"\"\"select\n",
    "\tcount(distinct h.loghost) as hostCount,\n",
    "\tcount(distinct domainName) as domainCount,\n",
    "\tcount(distinct userName ) as userCount\n",
    "from\n",
    "\tglobal_temp.hostEvents h\n",
    "\"\"\"\n",
    "\n",
    "spark.sql(sqlQuery).show(10)"
   ]
  },
  {
   "cell_type": "markdown",
   "id": "fd896385-e4a5-4ed6-8874-65d49c7cd72a",
   "metadata": {},
   "source": [
    "The EventID = 4625 is associated with a failed logon. I just want to see what some of this data looks like. This leads me to be curious about the categories for FailureReason and their counts."
   ]
  },
  {
   "cell_type": "code",
   "execution_count": 15,
   "id": "5fb1ada1-dc57-4c1b-9f06-c12e2ede9456",
   "metadata": {},
   "outputs": [
    {
     "data": {
      "text/html": [
       "<div>\n",
       "<style scoped>\n",
       "    .dataframe tbody tr th:only-of-type {\n",
       "        vertical-align: middle;\n",
       "    }\n",
       "\n",
       "    .dataframe tbody tr th {\n",
       "        vertical-align: top;\n",
       "    }\n",
       "\n",
       "    .dataframe thead th {\n",
       "        text-align: right;\n",
       "    }\n",
       "</style>\n",
       "<table border=\"1\" class=\"dataframe\">\n",
       "  <thead>\n",
       "    <tr style=\"text-align: right;\">\n",
       "      <th></th>\n",
       "      <th>0</th>\n",
       "      <th>1</th>\n",
       "      <th>2</th>\n",
       "    </tr>\n",
       "  </thead>\n",
       "  <tbody>\n",
       "    <tr>\n",
       "      <th>AuthenticationPackage</th>\n",
       "      <td>Kerberos</td>\n",
       "      <td>NTLM</td>\n",
       "      <td>Kerberos</td>\n",
       "    </tr>\n",
       "    <tr>\n",
       "      <th>Destination</th>\n",
       "      <td>None</td>\n",
       "      <td>None</td>\n",
       "      <td>None</td>\n",
       "    </tr>\n",
       "    <tr>\n",
       "      <th>DomainName</th>\n",
       "      <td>Domain001</td>\n",
       "      <td>Domain001</td>\n",
       "      <td>Domain001</td>\n",
       "    </tr>\n",
       "    <tr>\n",
       "      <th>EventID</th>\n",
       "      <td>4625</td>\n",
       "      <td>4625</td>\n",
       "      <td>4625</td>\n",
       "    </tr>\n",
       "    <tr>\n",
       "      <th>FailureReason</th>\n",
       "      <td>An Error occured during Logon.</td>\n",
       "      <td>Unknown user name or bad password.</td>\n",
       "      <td>An Error occured during Logon.</td>\n",
       "    </tr>\n",
       "    <tr>\n",
       "      <th>LogHost</th>\n",
       "      <td>Comp207493</td>\n",
       "      <td>Comp916004</td>\n",
       "      <td>Comp207493</td>\n",
       "    </tr>\n",
       "    <tr>\n",
       "      <th>LogonID</th>\n",
       "      <td>0x3e7</td>\n",
       "      <td>None</td>\n",
       "      <td>0x3e7</td>\n",
       "    </tr>\n",
       "    <tr>\n",
       "      <th>LogonType</th>\n",
       "      <td>3</td>\n",
       "      <td>3</td>\n",
       "      <td>3</td>\n",
       "    </tr>\n",
       "    <tr>\n",
       "      <th>LogonTypeDescription</th>\n",
       "      <td>Network</td>\n",
       "      <td>Network</td>\n",
       "      <td>Network</td>\n",
       "    </tr>\n",
       "    <tr>\n",
       "      <th>ParentProcessID</th>\n",
       "      <td>None</td>\n",
       "      <td>None</td>\n",
       "      <td>None</td>\n",
       "    </tr>\n",
       "    <tr>\n",
       "      <th>ParentProcessName</th>\n",
       "      <td>None</td>\n",
       "      <td>None</td>\n",
       "      <td>None</td>\n",
       "    </tr>\n",
       "    <tr>\n",
       "      <th>ProcessID</th>\n",
       "      <td>0xec0</td>\n",
       "      <td>None</td>\n",
       "      <td>0xec0</td>\n",
       "    </tr>\n",
       "    <tr>\n",
       "      <th>ProcessName</th>\n",
       "      <td>Proc275807.exe</td>\n",
       "      <td>None</td>\n",
       "      <td>Proc275807.exe</td>\n",
       "    </tr>\n",
       "    <tr>\n",
       "      <th>ServiceName</th>\n",
       "      <td>None</td>\n",
       "      <td>None</td>\n",
       "      <td>None</td>\n",
       "    </tr>\n",
       "    <tr>\n",
       "      <th>Source</th>\n",
       "      <td>Comp207493</td>\n",
       "      <td>Comp304741</td>\n",
       "      <td>Comp207493</td>\n",
       "    </tr>\n",
       "    <tr>\n",
       "      <th>Status</th>\n",
       "      <td>None</td>\n",
       "      <td>None</td>\n",
       "      <td>None</td>\n",
       "    </tr>\n",
       "    <tr>\n",
       "      <th>SubjectDomainName</th>\n",
       "      <td>None</td>\n",
       "      <td>None</td>\n",
       "      <td>None</td>\n",
       "    </tr>\n",
       "    <tr>\n",
       "      <th>SubjectLogonID</th>\n",
       "      <td>None</td>\n",
       "      <td>None</td>\n",
       "      <td>None</td>\n",
       "    </tr>\n",
       "    <tr>\n",
       "      <th>SubjectUserName</th>\n",
       "      <td>None</td>\n",
       "      <td>None</td>\n",
       "      <td>None</td>\n",
       "    </tr>\n",
       "    <tr>\n",
       "      <th>Time</th>\n",
       "      <td>7690171</td>\n",
       "      <td>7690067</td>\n",
       "      <td>7689865</td>\n",
       "    </tr>\n",
       "    <tr>\n",
       "      <th>UserName</th>\n",
       "      <td>Comp207493$</td>\n",
       "      <td>User856104</td>\n",
       "      <td>Comp207493$</td>\n",
       "    </tr>\n",
       "  </tbody>\n",
       "</table>\n",
       "</div>"
      ],
      "text/plain": [
       "                                                    0  \\\n",
       "AuthenticationPackage                        Kerberos   \n",
       "Destination                                      None   \n",
       "DomainName                                  Domain001   \n",
       "EventID                                          4625   \n",
       "FailureReason          An Error occured during Logon.   \n",
       "LogHost                                    Comp207493   \n",
       "LogonID                                         0x3e7   \n",
       "LogonType                                           3   \n",
       "LogonTypeDescription                          Network   \n",
       "ParentProcessID                                  None   \n",
       "ParentProcessName                                None   \n",
       "ProcessID                                       0xec0   \n",
       "ProcessName                            Proc275807.exe   \n",
       "ServiceName                                      None   \n",
       "Source                                     Comp207493   \n",
       "Status                                           None   \n",
       "SubjectDomainName                                None   \n",
       "SubjectLogonID                                   None   \n",
       "SubjectUserName                                  None   \n",
       "Time                                          7690171   \n",
       "UserName                                  Comp207493$   \n",
       "\n",
       "                                                        1  \\\n",
       "AuthenticationPackage                                NTLM   \n",
       "Destination                                          None   \n",
       "DomainName                                      Domain001   \n",
       "EventID                                              4625   \n",
       "FailureReason          Unknown user name or bad password.   \n",
       "LogHost                                        Comp916004   \n",
       "LogonID                                              None   \n",
       "LogonType                                               3   \n",
       "LogonTypeDescription                              Network   \n",
       "ParentProcessID                                      None   \n",
       "ParentProcessName                                    None   \n",
       "ProcessID                                            None   \n",
       "ProcessName                                          None   \n",
       "ServiceName                                          None   \n",
       "Source                                         Comp304741   \n",
       "Status                                               None   \n",
       "SubjectDomainName                                    None   \n",
       "SubjectLogonID                                       None   \n",
       "SubjectUserName                                      None   \n",
       "Time                                              7690067   \n",
       "UserName                                       User856104   \n",
       "\n",
       "                                                    2  \n",
       "AuthenticationPackage                        Kerberos  \n",
       "Destination                                      None  \n",
       "DomainName                                  Domain001  \n",
       "EventID                                          4625  \n",
       "FailureReason          An Error occured during Logon.  \n",
       "LogHost                                    Comp207493  \n",
       "LogonID                                         0x3e7  \n",
       "LogonType                                           3  \n",
       "LogonTypeDescription                          Network  \n",
       "ParentProcessID                                  None  \n",
       "ParentProcessName                                None  \n",
       "ProcessID                                       0xec0  \n",
       "ProcessName                            Proc275807.exe  \n",
       "ServiceName                                      None  \n",
       "Source                                     Comp207493  \n",
       "Status                                           None  \n",
       "SubjectDomainName                                None  \n",
       "SubjectLogonID                                   None  \n",
       "SubjectUserName                                  None  \n",
       "Time                                          7689865  \n",
       "UserName                                  Comp207493$  "
      ]
     },
     "execution_count": 15,
     "metadata": {},
     "output_type": "execute_result"
    }
   ],
   "source": [
    "sqlQuery = \"\"\"select * from global_temp.hostevents h where h.eventID = 4625\"\"\"\n",
    "spark.sql(sqlQuery).limit(3).toPandas().T"
   ]
  },
  {
   "cell_type": "code",
   "execution_count": 16,
   "id": "ac512902-f81a-489a-91a1-e65541f97ee2",
   "metadata": {},
   "outputs": [
    {
     "name": "stderr",
     "output_type": "stream",
     "text": [
      "                                                                                \r"
     ]
    },
    {
     "data": {
      "text/html": [
       "<div>\n",
       "<style scoped>\n",
       "    .dataframe tbody tr th:only-of-type {\n",
       "        vertical-align: middle;\n",
       "    }\n",
       "\n",
       "    .dataframe tbody tr th {\n",
       "        vertical-align: top;\n",
       "    }\n",
       "\n",
       "    .dataframe thead th {\n",
       "        text-align: right;\n",
       "    }\n",
       "</style>\n",
       "<table border=\"1\" class=\"dataframe\">\n",
       "  <thead>\n",
       "    <tr style=\"text-align: right;\">\n",
       "      <th></th>\n",
       "      <th>failurereason</th>\n",
       "      <th>eventCount</th>\n",
       "      <th>domainCount</th>\n",
       "      <th>userCount</th>\n",
       "      <th>loghostCount</th>\n",
       "    </tr>\n",
       "  </thead>\n",
       "  <tbody>\n",
       "    <tr>\n",
       "      <th>0</th>\n",
       "      <td>%%2313</td>\n",
       "      <td>8</td>\n",
       "      <td>1</td>\n",
       "      <td>2</td>\n",
       "      <td>2</td>\n",
       "    </tr>\n",
       "    <tr>\n",
       "      <th>1</th>\n",
       "      <td>Account currently disabled.</td>\n",
       "      <td>149</td>\n",
       "      <td>3</td>\n",
       "      <td>6</td>\n",
       "      <td>6</td>\n",
       "    </tr>\n",
       "    <tr>\n",
       "      <th>2</th>\n",
       "      <td>Account locked out.</td>\n",
       "      <td>170</td>\n",
       "      <td>2</td>\n",
       "      <td>0</td>\n",
       "      <td>1</td>\n",
       "    </tr>\n",
       "    <tr>\n",
       "      <th>3</th>\n",
       "      <td>The user has not been granted the requested lo...</td>\n",
       "      <td>23647</td>\n",
       "      <td>6</td>\n",
       "      <td>1</td>\n",
       "      <td>30</td>\n",
       "    </tr>\n",
       "    <tr>\n",
       "      <th>4</th>\n",
       "      <td>Unknown user name or bad password.</td>\n",
       "      <td>52055</td>\n",
       "      <td>18</td>\n",
       "      <td>9</td>\n",
       "      <td>114</td>\n",
       "    </tr>\n",
       "    <tr>\n",
       "      <th>5</th>\n",
       "      <td>An Error occured during Logon.</td>\n",
       "      <td>59101</td>\n",
       "      <td>3</td>\n",
       "      <td>2</td>\n",
       "      <td>16</td>\n",
       "    </tr>\n",
       "    <tr>\n",
       "      <th>6</th>\n",
       "      <td>None</td>\n",
       "      <td>39741677</td>\n",
       "      <td>127</td>\n",
       "      <td>9813273</td>\n",
       "      <td>7774</td>\n",
       "    </tr>\n",
       "  </tbody>\n",
       "</table>\n",
       "</div>"
      ],
      "text/plain": [
       "                                       failurereason  eventCount  domainCount  \\\n",
       "0                                             %%2313           8            1   \n",
       "1                        Account currently disabled.         149            3   \n",
       "2                                Account locked out.         170            2   \n",
       "3  The user has not been granted the requested lo...       23647            6   \n",
       "4                 Unknown user name or bad password.       52055           18   \n",
       "5                     An Error occured during Logon.       59101            3   \n",
       "6                                               None    39741677          127   \n",
       "\n",
       "   userCount  loghostCount  \n",
       "0          2             2  \n",
       "1          6             6  \n",
       "2          0             1  \n",
       "3          1            30  \n",
       "4          9           114  \n",
       "5          2            16  \n",
       "6    9813273          7774  "
      ]
     },
     "execution_count": 16,
     "metadata": {},
     "output_type": "execute_result"
    }
   ],
   "source": [
    "sqlQuery = \"\"\"\n",
    "select\n",
    "\tfailurereason,\n",
    "\tcount(*) as eventCount,\n",
    "\tcount(distinct domainName) as domainCount,\n",
    "\tcount(distinct logonID) as userCount,\n",
    "\tcount(distinct loghost) as loghostCount\n",
    "from\n",
    "\tglobal_temp.hostevents h\n",
    "group by\n",
    "\tfailurereason\n",
    "    order by eventCount\"\"\"\n",
    "spark.sql(sqlQuery).limit(100).toPandas()"
   ]
  },
  {
   "cell_type": "markdown",
   "id": "c68e8f44-9434-4fc1-b9e6-ff364c40ae95",
   "metadata": {},
   "source": [
    "%%2313 Might be an outlier or just dirty data given it is only 8 events. Will have to keep that in mind. \n",
    "\n",
    "Now looking at the netflow data, are there any source destination combos that are exchanging large amounts of data or connecting a lot?"
   ]
  },
  {
   "cell_type": "code",
   "execution_count": 17,
   "id": "87461184-4d09-4f04-aac9-fd03423d3f0b",
   "metadata": {},
   "outputs": [
    {
     "name": "stderr",
     "output_type": "stream",
     "text": [
      "[Stage 37:=================================================>      (22 + 3) / 25]\r"
     ]
    },
    {
     "name": "stdout",
     "output_type": "stream",
     "text": [
      "CPU times: user 8.67 ms, sys: 13.9 ms, total: 22.6 ms\n",
      "Wall time: 12.3 s\n"
     ]
    },
    {
     "name": "stderr",
     "output_type": "stream",
     "text": [
      "                                                                                \r"
     ]
    },
    {
     "data": {
      "text/html": [
       "<div>\n",
       "<style scoped>\n",
       "    .dataframe tbody tr th:only-of-type {\n",
       "        vertical-align: middle;\n",
       "    }\n",
       "\n",
       "    .dataframe tbody tr th {\n",
       "        vertical-align: top;\n",
       "    }\n",
       "\n",
       "    .dataframe thead th {\n",
       "        text-align: right;\n",
       "    }\n",
       "</style>\n",
       "<table border=\"1\" class=\"dataframe\">\n",
       "  <thead>\n",
       "    <tr style=\"text-align: right;\">\n",
       "      <th></th>\n",
       "      <th>srcDevice</th>\n",
       "      <th>dstdevice</th>\n",
       "      <th>count(1)</th>\n",
       "      <th>sum((srcpackets + dstpackets))</th>\n",
       "      <th>sumBytes</th>\n",
       "    </tr>\n",
       "  </thead>\n",
       "  <tbody>\n",
       "    <tr>\n",
       "      <th>0</th>\n",
       "      <td>Comp807801</td>\n",
       "      <td>EnterpriseAppServer</td>\n",
       "      <td>24527</td>\n",
       "      <td>1204450773</td>\n",
       "      <td>1462303747512</td>\n",
       "    </tr>\n",
       "    <tr>\n",
       "      <th>1</th>\n",
       "      <td>Comp569161</td>\n",
       "      <td>Comp354767</td>\n",
       "      <td>1313</td>\n",
       "      <td>906249458</td>\n",
       "      <td>993927880607</td>\n",
       "    </tr>\n",
       "    <tr>\n",
       "      <th>2</th>\n",
       "      <td>Comp107130</td>\n",
       "      <td>Comp807801</td>\n",
       "      <td>94343</td>\n",
       "      <td>820204270</td>\n",
       "      <td>827784804698</td>\n",
       "    </tr>\n",
       "  </tbody>\n",
       "</table>\n",
       "</div>"
      ],
      "text/plain": [
       "    srcDevice            dstdevice  count(1)  sum((srcpackets + dstpackets))  \\\n",
       "0  Comp807801  EnterpriseAppServer     24527                      1204450773   \n",
       "1  Comp569161           Comp354767      1313                       906249458   \n",
       "2  Comp107130           Comp807801     94343                       820204270   \n",
       "\n",
       "        sumBytes  \n",
       "0  1462303747512  \n",
       "1   993927880607  \n",
       "2   827784804698  "
      ]
     },
     "execution_count": 17,
     "metadata": {},
     "output_type": "execute_result"
    }
   ],
   "source": [
    "%%time\n",
    "sqlQuery = \"\"\"select\n",
    "\tsrcDevice,\n",
    "\tdstdevice,\n",
    "\tcount(1),\n",
    "\tsum(srcpackets + dstpackets),\n",
    "\tsum(srcbytes+ dstbytes) as sumBytes\n",
    "from\n",
    "\tglobal_temp.netflow nf\n",
    "group by\n",
    "\tsrcDevice,\n",
    "\tdstdevice\n",
    "    order  by sumBytes desc \"\"\"\n",
    "spark.sql(sqlQuery).limit(3).toPandas()"
   ]
  },
  {
   "cell_type": "markdown",
   "id": "32da9579-00c3-4f3f-9e4a-6234d3af3238",
   "metadata": {},
   "source": [
    "That top value is 1.47 Tb which, even for communicating with the enterpriseAppServer, I would consider very large. \n",
    "\n",
    "Are there any devices connecting to a significant number of other devices?\n"
   ]
  },
  {
   "cell_type": "code",
   "execution_count": 18,
   "id": "7ebf92bf-f31c-4307-af87-efcd1f57b8b0",
   "metadata": {},
   "outputs": [
    {
     "name": "stderr",
     "output_type": "stream",
     "text": [
      "                                                                                \r"
     ]
    },
    {
     "data": {
      "text/html": [
       "<div>\n",
       "<style scoped>\n",
       "    .dataframe tbody tr th:only-of-type {\n",
       "        vertical-align: middle;\n",
       "    }\n",
       "\n",
       "    .dataframe tbody tr th {\n",
       "        vertical-align: top;\n",
       "    }\n",
       "\n",
       "    .dataframe thead th {\n",
       "        text-align: right;\n",
       "    }\n",
       "</style>\n",
       "<table border=\"1\" class=\"dataframe\">\n",
       "  <thead>\n",
       "    <tr style=\"text-align: right;\">\n",
       "      <th></th>\n",
       "      <th>srcDevice</th>\n",
       "      <th>dstCount</th>\n",
       "    </tr>\n",
       "  </thead>\n",
       "  <tbody>\n",
       "    <tr>\n",
       "      <th>0</th>\n",
       "      <td>Comp215429</td>\n",
       "      <td>527781</td>\n",
       "    </tr>\n",
       "    <tr>\n",
       "      <th>1</th>\n",
       "      <td>Comp627564</td>\n",
       "      <td>66403</td>\n",
       "    </tr>\n",
       "    <tr>\n",
       "      <th>2</th>\n",
       "      <td>Comp379719</td>\n",
       "      <td>63335</td>\n",
       "    </tr>\n",
       "    <tr>\n",
       "      <th>3</th>\n",
       "      <td>Comp651521</td>\n",
       "      <td>7588</td>\n",
       "    </tr>\n",
       "    <tr>\n",
       "      <th>4</th>\n",
       "      <td>ActiveDirectory</td>\n",
       "      <td>1924</td>\n",
       "    </tr>\n",
       "    <tr>\n",
       "      <th>5</th>\n",
       "      <td>Comp425094</td>\n",
       "      <td>1511</td>\n",
       "    </tr>\n",
       "    <tr>\n",
       "      <th>6</th>\n",
       "      <td>Comp424608</td>\n",
       "      <td>948</td>\n",
       "    </tr>\n",
       "    <tr>\n",
       "      <th>7</th>\n",
       "      <td>Comp025189</td>\n",
       "      <td>945</td>\n",
       "    </tr>\n",
       "    <tr>\n",
       "      <th>8</th>\n",
       "      <td>Comp286308</td>\n",
       "      <td>852</td>\n",
       "    </tr>\n",
       "    <tr>\n",
       "      <th>9</th>\n",
       "      <td>EnterpriseAppServer</td>\n",
       "      <td>776</td>\n",
       "    </tr>\n",
       "  </tbody>\n",
       "</table>\n",
       "</div>"
      ],
      "text/plain": [
       "             srcDevice  dstCount\n",
       "0           Comp215429    527781\n",
       "1           Comp627564     66403\n",
       "2           Comp379719     63335\n",
       "3           Comp651521      7588\n",
       "4      ActiveDirectory      1924\n",
       "5           Comp425094      1511\n",
       "6           Comp424608       948\n",
       "7           Comp025189       945\n",
       "8           Comp286308       852\n",
       "9  EnterpriseAppServer       776"
      ]
     },
     "execution_count": 18,
     "metadata": {},
     "output_type": "execute_result"
    }
   ],
   "source": [
    "sqlQuery = \"\"\"select\n",
    "\tsrcDevice,\n",
    "\tcount(distinct dstDevice) as dstCount\n",
    "from\n",
    "\tglobal_temp.netflow nf\n",
    "group by\n",
    "\tsrcDevice\n",
    "order by\n",
    "\tdstCount desc\"\"\"\n",
    "\n",
    "spark.sql(sqlQuery).limit(10).toPandas()"
   ]
  },
  {
   "cell_type": "markdown",
   "id": "3ed8a435-3b16-4796-9a6c-51bf23005f13",
   "metadata": {},
   "source": [
    "Finally testing the common field that we would use to join the netflow and hostevents. This helps indicate which devices we should aggregate on. "
   ]
  },
  {
   "cell_type": "code",
   "execution_count": 19,
   "id": "800676ec-3026-46be-a041-93c605f2becd",
   "metadata": {},
   "outputs": [
    {
     "data": {
      "text/html": [
       "<div>\n",
       "<style scoped>\n",
       "    .dataframe tbody tr th:only-of-type {\n",
       "        vertical-align: middle;\n",
       "    }\n",
       "\n",
       "    .dataframe tbody tr th {\n",
       "        vertical-align: top;\n",
       "    }\n",
       "\n",
       "    .dataframe thead th {\n",
       "        text-align: right;\n",
       "    }\n",
       "</style>\n",
       "<table border=\"1\" class=\"dataframe\">\n",
       "  <thead>\n",
       "    <tr style=\"text-align: right;\">\n",
       "      <th></th>\n",
       "      <th>0</th>\n",
       "      <th>1</th>\n",
       "    </tr>\n",
       "  </thead>\n",
       "  <tbody>\n",
       "    <tr>\n",
       "      <th>AuthenticationPackage</th>\n",
       "      <td>None</td>\n",
       "      <td>None</td>\n",
       "    </tr>\n",
       "    <tr>\n",
       "      <th>Destination</th>\n",
       "      <td>None</td>\n",
       "      <td>None</td>\n",
       "    </tr>\n",
       "    <tr>\n",
       "      <th>DomainName</th>\n",
       "      <td>Domain001</td>\n",
       "      <td>Domain001</td>\n",
       "    </tr>\n",
       "    <tr>\n",
       "      <th>EventID</th>\n",
       "      <td>4634</td>\n",
       "      <td>4672</td>\n",
       "    </tr>\n",
       "    <tr>\n",
       "      <th>FailureReason</th>\n",
       "      <td>None</td>\n",
       "      <td>None</td>\n",
       "    </tr>\n",
       "    <tr>\n",
       "      <th>LogHost</th>\n",
       "      <td>Comp807801</td>\n",
       "      <td>Comp807801</td>\n",
       "    </tr>\n",
       "    <tr>\n",
       "      <th>LogonID</th>\n",
       "      <td>0x5fde2ec0</td>\n",
       "      <td>0x5fe34d4f</td>\n",
       "    </tr>\n",
       "    <tr>\n",
       "      <th>LogonType</th>\n",
       "      <td>3.0</td>\n",
       "      <td>NaN</td>\n",
       "    </tr>\n",
       "    <tr>\n",
       "      <th>LogonTypeDescription</th>\n",
       "      <td>Network</td>\n",
       "      <td>None</td>\n",
       "    </tr>\n",
       "    <tr>\n",
       "      <th>ParentProcessID</th>\n",
       "      <td>None</td>\n",
       "      <td>None</td>\n",
       "    </tr>\n",
       "    <tr>\n",
       "      <th>ParentProcessName</th>\n",
       "      <td>None</td>\n",
       "      <td>None</td>\n",
       "    </tr>\n",
       "    <tr>\n",
       "      <th>ProcessID</th>\n",
       "      <td>None</td>\n",
       "      <td>None</td>\n",
       "    </tr>\n",
       "    <tr>\n",
       "      <th>ProcessName</th>\n",
       "      <td>None</td>\n",
       "      <td>None</td>\n",
       "    </tr>\n",
       "    <tr>\n",
       "      <th>ServiceName</th>\n",
       "      <td>None</td>\n",
       "      <td>None</td>\n",
       "    </tr>\n",
       "    <tr>\n",
       "      <th>Source</th>\n",
       "      <td>None</td>\n",
       "      <td>None</td>\n",
       "    </tr>\n",
       "    <tr>\n",
       "      <th>Status</th>\n",
       "      <td>None</td>\n",
       "      <td>None</td>\n",
       "    </tr>\n",
       "    <tr>\n",
       "      <th>SubjectDomainName</th>\n",
       "      <td>None</td>\n",
       "      <td>None</td>\n",
       "    </tr>\n",
       "    <tr>\n",
       "      <th>SubjectLogonID</th>\n",
       "      <td>None</td>\n",
       "      <td>None</td>\n",
       "    </tr>\n",
       "    <tr>\n",
       "      <th>SubjectUserName</th>\n",
       "      <td>None</td>\n",
       "      <td>None</td>\n",
       "    </tr>\n",
       "    <tr>\n",
       "      <th>Time</th>\n",
       "      <td>7690156</td>\n",
       "      <td>7690397</td>\n",
       "    </tr>\n",
       "    <tr>\n",
       "      <th>UserName</th>\n",
       "      <td>Administrator</td>\n",
       "      <td>Administrator</td>\n",
       "    </tr>\n",
       "  </tbody>\n",
       "</table>\n",
       "</div>"
      ],
      "text/plain": [
       "                                   0              1\n",
       "AuthenticationPackage           None           None\n",
       "Destination                     None           None\n",
       "DomainName                 Domain001      Domain001\n",
       "EventID                         4634           4672\n",
       "FailureReason                   None           None\n",
       "LogHost                   Comp807801     Comp807801\n",
       "LogonID                   0x5fde2ec0     0x5fe34d4f\n",
       "LogonType                        3.0            NaN\n",
       "LogonTypeDescription         Network           None\n",
       "ParentProcessID                 None           None\n",
       "ParentProcessName               None           None\n",
       "ProcessID                       None           None\n",
       "ProcessName                     None           None\n",
       "ServiceName                     None           None\n",
       "Source                          None           None\n",
       "Status                          None           None\n",
       "SubjectDomainName               None           None\n",
       "SubjectLogonID                  None           None\n",
       "SubjectUserName                 None           None\n",
       "Time                         7690156        7690397\n",
       "UserName               Administrator  Administrator"
      ]
     },
     "execution_count": 19,
     "metadata": {},
     "output_type": "execute_result"
    }
   ],
   "source": [
    "sqlQuery = \"\"\"select * from global_temp.hostevents h where h.loghost = 'Comp807801'\"\"\"\n",
    "spark.sql(sqlQuery).limit(2).toPandas().T"
   ]
  },
  {
   "cell_type": "markdown",
   "id": "57a626cc-4f28-4e7d-b719-ae82adfccec6",
   "metadata": {},
   "source": [
    "\n",
    "Here I am going to summarize a couple of observations/assumptions about each of the data sources as well as the entire network.\n",
    " - It appears there are about 7,700 hosts and 14,000 users\n",
    "     - This makes sense if there is one actual user and one \"host User\" per machine as the documentation implied.\n",
    " - Loghost in hostEvents will correspond to either source or destination device in netflow. \n",
    " - The netflow data is by device to device and doesn't give a good indication of users that initiated these connections.\n",
    "    - We might be able to relate on time and device to the host event data but it is unclear how reliable that would be. \n",
    " - There are some devices exchanging significant amounts of data. \n",
    " - Assumption: The SrcDevice will be the device that initiated the connection in the netflow data. \n",
    " \n",
    "<a id='DataModel'></a>\n",
    "# Data Model And Feature Extraction\n",
    "\n",
    "The overall goal of this exercise is to identify anomalous activity. In an effort to keep this exercise manageable from a time and size constraint I am going to refine this goal as follows:\n",
    " - Are there any devices exhibiting anomalous or outlier behavior?\n",
    " \n",
    "With this goal in mind we can begin approaching our datamodel(s). My plan will be to aggregate some high level statistics from two perspectives; Device and user . From there we can further combine these into device level features.\n",
    "\n",
    " \n",
    "\n",
    "\n",
    " "
   ]
  },
  {
   "cell_type": "code",
   "execution_count": 20,
   "id": "5078e876-957b-4b43-bbfb-0689a341daa4",
   "metadata": {},
   "outputs": [],
   "source": [
    "sqlQuery = \"\"\"\n",
    "with userHost as (\n",
    "select\n",
    "\th.username,\n",
    "\tcoalesce(source, loghost) as host,\n",
    "\tsum(case when eventid in (4768, 4769, 4770) then 1 else 0 end ) as KerberosEventCount,\n",
    "\tsum(case when eventid in (4774, 4776, 4624, 4625, 4634, 4647, 4648) then 1 else 0 end ) as authLikeEventCount,\n",
    "\tsum(case when eventid in (4625) then 1 else 0 end ) as authFailedEventCount,\n",
    "\tsum(case when eventid in (4672) then 1 else 0 end ) as specialPrivEventCount,\n",
    "\tsum(case when eventid in (4689, 4688) then 1 else 0 end ) as processEventCount,\n",
    "\tcount(distinct loghost) as hostCount,\n",
    "\tcount(distinct logonid) as sessionCount,\n",
    "\tcount(*) as eventcount,\n",
    "\tcount(distinct processid) processCount,\n",
    "\tcount(distinct processname) as processNameCount,\n",
    "\tcount(distinct parentprocessName) as ParentProcessNameCount ,\n",
    "\tcount(distinct parentprocessid)as ParentProcessIDCount,\n",
    "\tmin(time) as minTime,\n",
    "\tmax(time) as maxTime,\n",
    "\tsum(case when failurereason is not null then 1 else 0 end ) as failedEventCount\n",
    "from\n",
    "\tglobal_temp.hostEvents h\n",
    "group by\n",
    "\th.username,\n",
    "\tcoalesce(source, loghost))\n",
    "\tselect\n",
    "\thost,\n",
    "\tsum(KerberosEventCount) sumKerberosEventCount ,\n",
    "\tsum(authLikeEventCount) sumauthLikeEventCount ,\n",
    "\tsum(authFailedEventCount) sumauthFailedEventCount ,\n",
    "\tsum(specialPrivEventCount) sumspecialPrivEventCount ,\n",
    "\tsum(processEventCount) sumprocessEventCount ,\n",
    "\tsum(hostCount) sumhostCount ,\n",
    "\tsum(sessionCount) sumsessionCount ,\n",
    "\tsum(eventcount) sumeventcount ,\n",
    "\tsum(processCount) sumprocessCount ,\n",
    "\tsum(processNameCount) sumprocessNameCount ,\n",
    "\tsum(ParentProcessNameCount) sumParentProcessNameCount ,\n",
    "\tsum(ParentProcessIDCount) sumParentProcessIDCount ,\n",
    "\tsum(minTime) summinTime ,\n",
    "\tsum(maxTime) summaxTime ,\n",
    "\tsum(failedEventCount) avgfailedEventCount ,\n",
    "\tavg(KerberosEventCount) avgKerberosEventCount ,\n",
    "\tavg(authLikeEventCount) avgauthLikeEventCount ,\n",
    "\tavg(authFailedEventCount) avgauthFailedEventCount ,\n",
    "\tavg(specialPrivEventCount) avgspecialPrivEventCount ,\n",
    "\tavg(processEventCount) avgprocessEventCount ,\n",
    "\tavg(hostCount) avghostCount ,\n",
    "\tavg(sessionCount) avgsessionCount ,\n",
    "\tavg(eventcount) avgeventcount ,\n",
    "\tavg(processCount) avgprocessCount ,\n",
    "\tavg(processNameCount) avgprocessNameCount ,\n",
    "\tavg(ParentProcessNameCount) avgParentProcessNameCount ,\n",
    "\tavg(ParentProcessIDCount) avgParentProcessIDCount ,\n",
    "\tavg(minTime) avgminTime ,\n",
    "\tavg(maxTime) avgmaxTime ,\n",
    "\tavg(failedEventCount) avgfailedEventCount\n",
    "from\n",
    "\tuserhost uh\n",
    "group by\n",
    "\tuh.host\n",
    "\n",
    "\"\"\""
   ]
  },
  {
   "cell_type": "code",
   "execution_count": 21,
   "id": "2161de00-1f9b-4573-95e3-24a3f950affb",
   "metadata": {},
   "outputs": [],
   "source": [
    "userHostMetrics = spark.sql(sqlQuery)\n"
   ]
  },
  {
   "cell_type": "code",
   "execution_count": 22,
   "id": "843415d3-9e2c-48e3-91fb-da58ce17b17e",
   "metadata": {},
   "outputs": [],
   "source": [
    "sqlQuery = \"\"\"select\n",
    "\tn.SrcDevice  as host,\n",
    "\tsum(n.SrcPackets + n.DstPackets ) as totalPackets,\n",
    "\tsum(n.SrcPackets) as totalSrcPackets,\n",
    "\tsum(n.DstPackets) as totalDstPackets,\n",
    "\tavg(n.SrcPackets + n.DstPackets ) as avgConPackets,\n",
    "\tavg(n.SrcPackets) as avgSrcPackets,\n",
    "\tavg(n.DstPackets) as avgDstPackets,\n",
    "\tsum(n.SrcBytes + n.DstBytes ) as totalBytes,\n",
    "\tsum(n.SrcBytes) as totalSrcBytes,\n",
    "\tsum(n.DstBytes) as totalDstBytes,\n",
    "\tavg(n.SrcBytes + n.DstBytes ) as avgConBytes,\n",
    "\tavg(n.SrcBytes) as avgSrcBytes,\n",
    "\tavg(n.DstBytes) as avgDstBytes,\n",
    "\tcount(distinct n.DstDevice) as destinationCount,\n",
    "\tcount(DISTINCT n.DstPort) as destinationPortCount,\n",
    "\tMIN(n.Time) as minTime,\n",
    "\tmax(n.Time) as maxTime,\n",
    "\tavg(Duration) as avgDuration, \n",
    "\tmax(Duration) as maxDuration,\n",
    "\tsum(case when n.SrcPackets<5 then 1 else 0 end ) as countShortConnections\n",
    "from\n",
    "\tglobal_temp.netflow n\n",
    "group by\n",
    "\tn.SrcDevice \"\"\"\n",
    "hostNetflowMetrics = spark.sql(sqlQuery)"
   ]
  },
  {
   "cell_type": "markdown",
   "id": "432c2ec6-5532-4a01-a898-be907d84fa17",
   "metadata": {},
   "source": [
    "Now have two datasets aggregated by host. If we have more historical data available, we might generate normalized metrics over time. \n"
   ]
  },
  {
   "cell_type": "code",
   "execution_count": 23,
   "id": "c763cbae-e9cf-4982-8c7c-13a4e73c50e5",
   "metadata": {},
   "outputs": [
    {
     "name": "stderr",
     "output_type": "stream",
     "text": [
      "                                                                                \r"
     ]
    },
    {
     "data": {
      "text/plain": [
       "8709"
      ]
     },
     "execution_count": 23,
     "metadata": {},
     "output_type": "execute_result"
    },
    {
     "name": "stderr",
     "output_type": "stream",
     "text": [
      "21/12/05 23:45:56 WARN package: Truncated the string representation of a plan since it was too large. This behavior can be adjusted by setting 'spark.sql.debug.maxToStringFields'.\n",
      "                                                                                \r"
     ]
    },
    {
     "data": {
      "text/plain": [
       "22077"
      ]
     },
     "execution_count": 23,
     "metadata": {},
     "output_type": "execute_result"
    }
   ],
   "source": [
    "userHostMetrics.count()\n",
    "userHostMetrics.createOrReplaceGlobalTempView('userHostMetrics')\n",
    "hostNetflowMetrics.count()\n",
    "hostNetflowMetrics.createOrReplaceGlobalTempView('hostNetflowMetrics')"
   ]
  },
  {
   "cell_type": "markdown",
   "id": "1b6e618f-611b-4e51-b8ee-106b473b3459",
   "metadata": {},
   "source": [
    "Should do a little investigation on why there are so many more hosts in the netflow data than the events data."
   ]
  },
  {
   "cell_type": "code",
   "execution_count": 24,
   "id": "54c691d7-0209-496d-8dbe-9ec9a0ef8d55",
   "metadata": {},
   "outputs": [
    {
     "name": "stderr",
     "output_type": "stream",
     "text": [
      "                                                                                \r"
     ]
    },
    {
     "data": {
      "text/html": [
       "<div>\n",
       "<style scoped>\n",
       "    .dataframe tbody tr th:only-of-type {\n",
       "        vertical-align: middle;\n",
       "    }\n",
       "\n",
       "    .dataframe tbody tr th {\n",
       "        vertical-align: top;\n",
       "    }\n",
       "\n",
       "    .dataframe thead th {\n",
       "        text-align: right;\n",
       "    }\n",
       "</style>\n",
       "<table border=\"1\" class=\"dataframe\">\n",
       "  <thead>\n",
       "    <tr style=\"text-align: right;\">\n",
       "      <th></th>\n",
       "      <th>host</th>\n",
       "      <th>host</th>\n",
       "    </tr>\n",
       "  </thead>\n",
       "  <tbody>\n",
       "    <tr>\n",
       "      <th>0</th>\n",
       "      <td>Comp535299</td>\n",
       "      <td>None</td>\n",
       "    </tr>\n",
       "    <tr>\n",
       "      <th>1</th>\n",
       "      <td>Comp588542</td>\n",
       "      <td>None</td>\n",
       "    </tr>\n",
       "    <tr>\n",
       "      <th>2</th>\n",
       "      <td>Comp892548</td>\n",
       "      <td>None</td>\n",
       "    </tr>\n",
       "    <tr>\n",
       "      <th>3</th>\n",
       "      <td>IP699879</td>\n",
       "      <td>None</td>\n",
       "    </tr>\n",
       "    <tr>\n",
       "      <th>4</th>\n",
       "      <td>Comp005873</td>\n",
       "      <td>None</td>\n",
       "    </tr>\n",
       "    <tr>\n",
       "      <th>5</th>\n",
       "      <td>Comp312344</td>\n",
       "      <td>None</td>\n",
       "    </tr>\n",
       "    <tr>\n",
       "      <th>6</th>\n",
       "      <td>Comp672907</td>\n",
       "      <td>None</td>\n",
       "    </tr>\n",
       "    <tr>\n",
       "      <th>7</th>\n",
       "      <td>Comp587639</td>\n",
       "      <td>None</td>\n",
       "    </tr>\n",
       "    <tr>\n",
       "      <th>8</th>\n",
       "      <td>Comp956455</td>\n",
       "      <td>None</td>\n",
       "    </tr>\n",
       "    <tr>\n",
       "      <th>9</th>\n",
       "      <td>Comp719895</td>\n",
       "      <td>None</td>\n",
       "    </tr>\n",
       "  </tbody>\n",
       "</table>\n",
       "</div>"
      ],
      "text/plain": [
       "         host  host\n",
       "0  Comp535299  None\n",
       "1  Comp588542  None\n",
       "2  Comp892548  None\n",
       "3    IP699879  None\n",
       "4  Comp005873  None\n",
       "5  Comp312344  None\n",
       "6  Comp672907  None\n",
       "7  Comp587639  None\n",
       "8  Comp956455  None\n",
       "9  Comp719895  None"
      ]
     },
     "execution_count": 24,
     "metadata": {},
     "output_type": "execute_result"
    }
   ],
   "source": [
    "sqlQuery = \"\"\"\n",
    "\n",
    "select\n",
    "\tn.host, h.host\n",
    "from\n",
    "\tglobal_temp.hostNetflowmetrics n\n",
    "left join global_temp.userhostmetrics h on\n",
    "\tn.host = h.host\n",
    "where\n",
    "\th.host is null\n",
    "\"\"\"\n",
    "\n",
    "spark.sql(sqlQuery).limit(10).toPandas()"
   ]
  },
  {
   "cell_type": "code",
   "execution_count": 26,
   "id": "4972f3ff-8701-4ec3-ac52-b9c4a00ea5c7",
   "metadata": {},
   "outputs": [
    {
     "name": "stderr",
     "output_type": "stream",
     "text": [
      "                                                                                \r"
     ]
    },
    {
     "data": {
      "text/plain": [
       "0"
      ]
     },
     "execution_count": 26,
     "metadata": {},
     "output_type": "execute_result"
    }
   ],
   "source": [
    "sqlQuery = \"\"\"\n",
    "select\n",
    "\t*\n",
    "from\n",
    "\tglobal_temp.hostEvents h\n",
    "where\n",
    "\th.loghost like '%588542%'\n",
    "\tor h.destination like '%588542%'\n",
    "\tor h.username like '%588542%'\n",
    "\"\"\"\n",
    "spark.sql(sqlQuery).count()"
   ]
  },
  {
   "cell_type": "markdown",
   "id": "7e6757b5-2241-47c1-ad6d-b604eb5f4f1d",
   "metadata": {},
   "source": [
    "My initial check revealed that I should be coalesce'ing loghost with source and that reduced the difference by maybe a thousand devices. Some implied device types like networking devices for IP* make sense that they would not have windows host events data. Others I guess could be non-windows devices or external from the network so event data wouldn't be available. These types of assumptions should be confirmed with subject matter experts. I will move forward inner joining the two as our analysis will require insight into host events and network flow data for outlier detection. \n"
   ]
  },
  {
   "cell_type": "code",
   "execution_count": 27,
   "id": "a976a9d6-d76d-482b-8b94-6391bad83557",
   "metadata": {},
   "outputs": [
    {
     "name": "stderr",
     "output_type": "stream",
     "text": [
      "                                                                                \r"
     ]
    }
   ],
   "source": [
    "#for visuals if needed\n",
    "netflowFeatures = hostNetflowMetrics.toPandas()\n",
    "userHostFeatures = userHostMetrics.toPandas()"
   ]
  },
  {
   "cell_type": "code",
   "execution_count": 67,
   "id": "cc8fe31d-6ae9-414a-a158-27b32f27898f",
   "metadata": {},
   "outputs": [
    {
     "name": "stderr",
     "output_type": "stream",
     "text": [
      "/opt/conda/lib/python3.9/socket.py:775: ResourceWarning: unclosed <socket.socket fd=72, family=AddressFamily.AF_INET, type=SocketKind.SOCK_STREAM, proto=6, laddr=('127.0.0.1', 56346), raddr=('127.0.0.1', 46537)>\n",
      "  self._sock = None\n",
      "ResourceWarning: Enable tracemalloc to get the object allocation traceback\n"
     ]
    }
   ],
   "source": [
    "sqlQuery = \"\"\"\n",
    "select\n",
    "\t*\n",
    "from\n",
    "\tglobal_temp.hostNetflowmetrics n\n",
    "join global_temp.userhostmetrics h on\n",
    "\tn.host = h.host\n",
    "\"\"\"\n",
    "combinedDatasdf = spark.sql(sqlQuery)\n",
    "combinedData = combinedDatasdf.toPandas()"
   ]
  },
  {
   "cell_type": "code",
   "execution_count": 61,
   "id": "d4fdbece-b31d-4348-a104-7218615ac624",
   "metadata": {},
   "outputs": [],
   "source": [
    "import matplotlib as mpl\n",
    "import matplotlib.pyplot as plt\n",
    "import pandas as pd\n",
    "import seaborn as sns\n",
    "\n",
    "import warnings\n",
    "\n",
    "warnings.filterwarnings(action=\"once\")\n",
    "plt.style.use(\"seaborn-whitegrid\")\n",
    "sns.set_style(\"whitegrid\")"
   ]
  },
  {
   "cell_type": "code",
   "execution_count": 68,
   "id": "31049bcc-ea5c-4d30-8501-49edec38e320",
   "metadata": {},
   "outputs": [
    {
     "data": {
      "image/png": "[encoded data removed]",
      "text/plain": [
       "<Figure size 792x648 with 2 Axes>"
      ]
     },
     "metadata": {},
     "output_type": "display_data"
    }
   ],
   "source": [
    "corr = combinedData.corr()\n",
    "\n",
    "# Generate a mask for the upper triangle\n",
    "mask = np.triu(np.ones_like(corr, dtype=bool))\n",
    "\n",
    "# Set up the matplotlib figure\n",
    "f, ax = plt.subplots(figsize=(11, 9))\n",
    "\n",
    "# Generate a custom diverging colormap\n",
    "cmap = sns.diverging_palette(230, 20, as_cmap=True)\n",
    "\n",
    "\n",
    "# ax = plt.axes()\n",
    "# Draw the heatmap with the mask and correct aspect ratio\n",
    "ax = sns.heatmap(\n",
    "    corr,\n",
    "    mask=mask,\n",
    "    cmap=cmap,\n",
    "    vmax=0.3,\n",
    "    center=0,\n",
    "    square=True,\n",
    "    linewidths=0.5,\n",
    "    cbar_kws={\"shrink\": 0.5},\n",
    ")\n",
    "ax.set_xticks(corr.reset_index().index)\n",
    "ax.set_xticklabels(corr.columns)\n",
    "ax.set_yticks(corr.reset_index().index)\n",
    "ax.set_yticklabels(corr.columns)\n",
    "\n",
    "\n",
    "plt.title(\"Pearson Correlation Matrix \\n User Event Host Features\");"
   ]
  },
  {
   "cell_type": "markdown",
   "id": "86f7a88d-cca3-4bce-aa40-b5a299c1cebf",
   "metadata": {},
   "source": [
    "Above I plotted the correlation matrix of all of the features. Generally in machine learning, we don't want any features to be too strongly correlated as that just tends to insert redundant information into the model. Nothing over 0.3 here suggests we are safe to move forward."
   ]
  },
  {
   "cell_type": "markdown",
   "id": "e7711b09-f623-4d00-a6ca-3881f8c779ec",
   "metadata": {},
   "source": [
    "<a id='ML'></a>\n",
    "# Unsupervised Outlier Detection Methodology\n",
    "\n",
    "My outlier detection methodology consists of the following steps:\n",
    " - Apply k-means clustering to feature set multiple times tracking the loss function. \n",
    " - Plot this identifying the \"elbow point\" indicating the optimal number of classes without overfitting. \n",
    " - Assign each device in a cluster and calculate their distance from the center of the class. \n",
    " - Apply zscore methodology for each classes distances to identify devices that are an outlier from their class. \n",
    " \n",
    " \n",
    "Time permitting, more sophisticated methods would be applied but this method is a good balance between demonstrating value and understandability. We would also look perform more feature engineering and development."
   ]
  },
  {
   "cell_type": "code",
   "execution_count": 70,
   "id": "238ae902-5e45-4b1b-b7c8-486a2438a694",
   "metadata": {},
   "outputs": [],
   "source": [
    "combinedData = combinedData.set_index('host')"
   ]
  },
  {
   "cell_type": "markdown",
   "id": "218e1dd3-60a6-4654-ac46-ca67ab527ed9",
   "metadata": {},
   "source": [
    "Confirming that we don't have any null values in the dataset."
   ]
  },
  {
   "cell_type": "code",
   "execution_count": 71,
   "id": "0a6c57f1-50b8-48fa-a9e4-c6504dfdc9bc",
   "metadata": {},
   "outputs": [
    {
     "data": {
      "text/plain": [
       "(8488, 49)"
      ]
     },
     "execution_count": 71,
     "metadata": {},
     "output_type": "execute_result"
    },
    {
     "data": {
      "text/plain": [
       "(8488, 49)"
      ]
     },
     "execution_count": 71,
     "metadata": {},
     "output_type": "execute_result"
    }
   ],
   "source": [
    "combinedData.dropna().shape\n",
    "combinedData.shape"
   ]
  },
  {
   "cell_type": "markdown",
   "id": "2a2c8c51-ea7d-43e6-9ba8-aa8744503015",
   "metadata": {},
   "source": [
    "## Identifying Optimal Number of Clusters\n",
    "\n",
    "We will iteratively fit K-Means clustering algorithm varying the number of clusters the algorithm will fit to. For each of those models we will track the performance by looking at the silhouette score. This score calculates the average intra-cluster distance and compares it to the mean nearest-cluster distance.\n",
    "\n",
    "But first, since we are working with planar distances, we need to preprocess the features to be on the same scale. We are applying a StandardScaler() which essentially calculates the z-score for each feature. "
   ]
  },
  {
   "cell_type": "code",
   "execution_count": 72,
   "id": "6f1044cd-8943-449e-8f8f-b148044af6b5",
   "metadata": {},
   "outputs": [],
   "source": [
    "from sklearn import preprocessing\n",
    "scaler = preprocessing.StandardScaler().fit(combinedData)\n",
    "xScaled = scaler.transform(combinedData)"
   ]
  },
  {
   "cell_type": "code",
   "execution_count": 34,
   "id": "27973588-c1ab-414c-822c-4f7dfe60a2ab",
   "metadata": {
    "tags": []
   },
   "outputs": [],
   "source": [
    "# ended up not needing this but usefull so saving code. \n",
    "# scaledData = pd.DataFrame(xScaled, index=combinedData.index, columns=scaler.get_feature_names_out(),)"
   ]
  },
  {
   "cell_type": "code",
   "execution_count": 77,
   "id": "443ade56-a07e-4afd-9950-c131305b838f",
   "metadata": {},
   "outputs": [],
   "source": [
    "from sklearn.cluster import KMeans\n",
    "from sklearn.metrics import silhouette_score\n",
    "\n",
    "num_clusters = np.arange(2,20)\n",
    "results = {}\n",
    "for size in num_clusters:\n",
    "    model = KMeans(n_clusters = size, max_iter=100000, random_state=0).fit(xScaled)\n",
    "    predictions = model.predict(xScaled)\n",
    "    results[size] = silhouette_score(xScaled, predictions)"
   ]
  },
  {
   "cell_type": "code",
   "execution_count": 78,
   "id": "85752272-1042-4ac7-ad01-4919836153c5",
   "metadata": {},
   "outputs": [
    {
     "data": {
      "image/png": "[encoded data removed]",
      "text/plain": [
       "<Figure size 720x320 with 1 Axes>"
      ]
     },
     "metadata": {},
     "output_type": "display_data"
    }
   ],
   "source": [
    "plt.figure(figsize=(9,4), dpi= 80)\n",
    "ax = sns.lineplot(data=results)\n",
    "ax.set_xticks(range(len(results)))\n",
    "ax.set_title('silhouette_score By Number of Clusters')\n",
    "ax.set_xlabel('Number of Clusters')\n",
    "plt.show();"
   ]
  },
  {
   "cell_type": "markdown",
   "id": "a311c32f-11b6-4683-9192-c1be304f6b31",
   "metadata": {},
   "source": [
    "The spike after 5 followed by the drop to me is an indicator of overfitting. Based on this I will set our number of clusters to 5. "
   ]
  },
  {
   "cell_type": "markdown",
   "id": "174fae55-8c8b-468b-ae85-6f72a901bce7",
   "metadata": {},
   "source": [
    "## Final Clustering and Outlier Detection"
   ]
  },
  {
   "cell_type": "code",
   "execution_count": 55,
   "id": "2634a25b-4ede-4c72-bb7f-1114dab9590b",
   "metadata": {},
   "outputs": [],
   "source": [
    "nClusters = 5\n",
    "model = KMeans(n_clusters=nClusters, max_iter=100000, random_state=0).fit(xScaled)\n",
    "predictions = model.predict(xScaled)\n",
    "clusteredData = combinedData.copy()\n",
    "clusteredData['cluster']= predictions\n",
    "## Get the squared distance to the cluster center\n",
    "\n",
    "clusteredData['distanceToClusterCenter'] = (model.transform(xScaled)**2).sum(axis=1).round(5)"
   ]
  },
  {
   "cell_type": "code",
   "execution_count": 56,
   "id": "9e7583b5-94fb-4069-91dc-5ece5d96c52d",
   "metadata": {},
   "outputs": [],
   "source": [
    "zscore = lambda x: (x - x.mean()) / x.std()\n",
    "clusteredData.drop(columns='zScoreDistance', inplace=True,errors='ignore')\n",
    "clusteredData.insert(len(clusteredData.columns), 'zScoreDistance', clusteredData.groupby(['cluster'])['distanceToClusterCenter'].transform(zscore))"
   ]
  },
  {
   "cell_type": "code",
   "execution_count": 57,
   "id": "90ee0a06-ccd7-4c93-9e67-16c6aaec9d3a",
   "metadata": {},
   "outputs": [
    {
     "data": {
      "text/html": [
       "<div>\n",
       "<style scoped>\n",
       "    .dataframe tbody tr th:only-of-type {\n",
       "        vertical-align: middle;\n",
       "    }\n",
       "\n",
       "    .dataframe tbody tr th {\n",
       "        vertical-align: top;\n",
       "    }\n",
       "\n",
       "    .dataframe thead th {\n",
       "        text-align: right;\n",
       "    }\n",
       "</style>\n",
       "<table border=\"1\" class=\"dataframe\">\n",
       "  <thead>\n",
       "    <tr style=\"text-align: right;\">\n",
       "      <th></th>\n",
       "      <th>cluster</th>\n",
       "      <th>distanceToClusterCenter</th>\n",
       "      <th>zScoreDistance</th>\n",
       "      <th>RiskScore</th>\n",
       "    </tr>\n",
       "    <tr>\n",
       "      <th>host</th>\n",
       "      <th></th>\n",
       "      <th></th>\n",
       "      <th></th>\n",
       "      <th></th>\n",
       "    </tr>\n",
       "  </thead>\n",
       "  <tbody>\n",
       "    <tr>\n",
       "      <th>(Comp207493, Comp207493)</th>\n",
       "      <td>0</td>\n",
       "      <td>190763.50747</td>\n",
       "      <td>70.735459</td>\n",
       "      <td>70.735459</td>\n",
       "    </tr>\n",
       "    <tr>\n",
       "      <th>(Comp897367, Comp897367)</th>\n",
       "      <td>0</td>\n",
       "      <td>124569.46583</td>\n",
       "      <td>35.884752</td>\n",
       "      <td>35.884752</td>\n",
       "    </tr>\n",
       "    <tr>\n",
       "      <th>(Comp627564, Comp627564)</th>\n",
       "      <td>1</td>\n",
       "      <td>98400.42153</td>\n",
       "      <td>25.921222</td>\n",
       "      <td>25.921222</td>\n",
       "    </tr>\n",
       "    <tr>\n",
       "      <th>(Comp158828, Comp158828)</th>\n",
       "      <td>0</td>\n",
       "      <td>91502.43093</td>\n",
       "      <td>18.475186</td>\n",
       "      <td>18.475186</td>\n",
       "    </tr>\n",
       "    <tr>\n",
       "      <th>(Comp030334, Comp030334)</th>\n",
       "      <td>1</td>\n",
       "      <td>85937.08525</td>\n",
       "      <td>18.196980</td>\n",
       "      <td>18.196980</td>\n",
       "    </tr>\n",
       "  </tbody>\n",
       "</table>\n",
       "</div>"
      ],
      "text/plain": [
       "                          cluster  distanceToClusterCenter  zScoreDistance  \\\n",
       "host                                                                         \n",
       "(Comp207493, Comp207493)        0             190763.50747       70.735459   \n",
       "(Comp897367, Comp897367)        0             124569.46583       35.884752   \n",
       "(Comp627564, Comp627564)        1              98400.42153       25.921222   \n",
       "(Comp158828, Comp158828)        0              91502.43093       18.475186   \n",
       "(Comp030334, Comp030334)        1              85937.08525       18.196980   \n",
       "\n",
       "                          RiskScore  \n",
       "host                                 \n",
       "(Comp207493, Comp207493)  70.735459  \n",
       "(Comp897367, Comp897367)  35.884752  \n",
       "(Comp627564, Comp627564)  25.921222  \n",
       "(Comp158828, Comp158828)  18.475186  \n",
       "(Comp030334, Comp030334)  18.196980  "
      ]
     },
     "execution_count": 57,
     "metadata": {},
     "output_type": "execute_result"
    }
   ],
   "source": [
    "clusteredData['RiskScore'] =(clusteredData.zScoreDistance.abs())\n",
    "clusteredData[['cluster','distanceToClusterCenter','zScoreDistance','RiskScore']].sort_values('RiskScore', ascending=False).head(5)"
   ]
  },
  {
   "cell_type": "code",
   "execution_count": 58,
   "id": "8acc4fef-8489-478f-bf08-1bd1c7783e6b",
   "metadata": {},
   "outputs": [
    {
     "data": {
      "text/plain": [
       "0    7301\n",
       "1    1180\n",
       "4       3\n",
       "3       1\n",
       "2       3\n",
       "Name: cluster, dtype: int64"
      ]
     },
     "execution_count": 58,
     "metadata": {},
     "output_type": "execute_result"
    }
   ],
   "source": [
    "clusteredData.cluster.value_counts(sort=False)"
   ]
  },
  {
   "cell_type": "code",
   "execution_count": 59,
   "id": "db0ac880-75c2-4c9f-a1fc-1ef8bcb8a6c4",
   "metadata": {},
   "outputs": [
    {
     "data": {
      "text/plain": [
       "(24, 53)"
      ]
     },
     "execution_count": 59,
     "metadata": {},
     "output_type": "execute_result"
    }
   ],
   "source": [
    "clusteredData[clusteredData.RiskScore>3].shape\n"
   ]
  },
  {
   "cell_type": "markdown",
   "id": "9c2a79f3-0cdb-4cdc-b0d7-ffaf5b73b29e",
   "metadata": {},
   "source": [
    "We now have clustered data with an overall RiskScore field. The higher the value of this field, the more anomalous. Our usual zscore threshold is 3 and above you can see that there are 24 devices that are considered outliers. Those could be further prioritized in descending order by the RiskScore value as the most anomalous would loosely correlate to the most risky. \n",
    "\n",
    "\n",
    "Let's take a quick look at the distribution of these values. For visualization purposes I excluded risk scores greater than 10. These would ruin the scale of the visuals. "
   ]
  },
  {
   "cell_type": "code",
   "execution_count": 64,
   "id": "77d6124d-c2ab-4219-b774-474d52b97611",
   "metadata": {},
   "outputs": [
    {
     "data": {
      "text/plain": [
       "<Figure size 640x560 with 0 Axes>"
      ]
     },
     "execution_count": 64,
     "metadata": {},
     "output_type": "execute_result"
    },
    {
     "data": {
      "text/plain": [
       "<AxesSubplot:xlabel='cluster', ylabel='zScoreDistance'>"
      ]
     },
     "execution_count": 64,
     "metadata": {},
     "output_type": "execute_result"
    },
    {
     "data": {
      "text/plain": [
       "Text(0.5, 1.0, 'Box Plot of Clusters')"
      ]
     },
     "execution_count": 64,
     "metadata": {},
     "output_type": "execute_result"
    },
    {
     "data": {
      "image/png": "[encoded data removed]",
      "text/plain": [
       "<Figure size 640x560 with 1 Axes>"
      ]
     },
     "metadata": {},
     "output_type": "display_data"
    }
   ],
   "source": [
    "# Draw Plot\n",
    "plt.figure(figsize=(8,7), dpi= 80)\n",
    "sns.boxplot(x='cluster', y='zScoreDistance', data=clusteredData[clusteredData.RiskScore<10], )\n",
    "\n",
    "# Decoration\n",
    "plt.title('Box Plot of Clusters', fontsize=22)\n",
    "plt.show()"
   ]
  },
  {
   "cell_type": "markdown",
   "id": "49b963a6-d7b0-44c8-98f2-8e00ba4e3de2",
   "metadata": {},
   "source": [
    "Finally, let's take a look at a couple of these outliers. I included the overall means for each feature for comparison.\n",
    "- Comp897367\n",
    "    - This device has significantly less packets that the average as well as a lower duration. \n",
    "    - But at the same time, this device has very high number of process names and parentProcesIDs\n",
    "- Comp207493\n",
    "    - The totalDstBytes for this device is low compared to the average.\n",
    "    - The avgauthFailedEventCount is very high."
   ]
  },
  {
   "cell_type": "code",
   "execution_count": 65,
   "id": "d5ff0e6c-66f9-4ad8-b610-61fc7f6f4601",
   "metadata": {},
   "outputs": [
    {
     "data": {
      "text/html": [
       "<div>\n",
       "<style scoped>\n",
       "    .dataframe tbody tr th:only-of-type {\n",
       "        vertical-align: middle;\n",
       "    }\n",
       "\n",
       "    .dataframe tbody tr th {\n",
       "        vertical-align: top;\n",
       "    }\n",
       "\n",
       "    .dataframe thead th {\n",
       "        text-align: right;\n",
       "    }\n",
       "</style>\n",
       "<table border=\"1\" class=\"dataframe\">\n",
       "  <thead>\n",
       "    <tr style=\"text-align: right;\">\n",
       "      <th></th>\n",
       "      <th>(Comp207493, Comp207493)</th>\n",
       "      <th>(Comp897367, Comp897367)</th>\n",
       "      <th>mean</th>\n",
       "    </tr>\n",
       "  </thead>\n",
       "  <tbody>\n",
       "    <tr>\n",
       "      <th>totalPackets</th>\n",
       "      <td>561684.000000000000</td>\n",
       "      <td>17130.000000000000</td>\n",
       "      <td>1744320.792766258353</td>\n",
       "    </tr>\n",
       "    <tr>\n",
       "      <th>totalSrcPackets</th>\n",
       "      <td>418924.000000000000</td>\n",
       "      <td>16662.000000000000</td>\n",
       "      <td>1013724.728440150851</td>\n",
       "    </tr>\n",
       "    <tr>\n",
       "      <th>totalDstPackets</th>\n",
       "      <td>142760.000000000000</td>\n",
       "      <td>468.000000000000</td>\n",
       "      <td>730596.064326107502</td>\n",
       "    </tr>\n",
       "    <tr>\n",
       "      <th>avgConPackets</th>\n",
       "      <td>8.281493276716</td>\n",
       "      <td>4.007017543860</td>\n",
       "      <td>248.595576344858</td>\n",
       "    </tr>\n",
       "    <tr>\n",
       "      <th>avgSrcPackets</th>\n",
       "      <td>6.176633640009</td>\n",
       "      <td>3.897543859649</td>\n",
       "      <td>174.000509063199</td>\n",
       "    </tr>\n",
       "    <tr>\n",
       "      <th>avgDstPackets</th>\n",
       "      <td>2.104859636707</td>\n",
       "      <td>0.109473684211</td>\n",
       "      <td>74.595067281659</td>\n",
       "    </tr>\n",
       "    <tr>\n",
       "      <th>totalBytes</th>\n",
       "      <td>235928946.000000000000</td>\n",
       "      <td>3964947.000000000000</td>\n",
       "      <td>1023768242.752945303917</td>\n",
       "    </tr>\n",
       "    <tr>\n",
       "      <th>totalSrcBytes</th>\n",
       "      <td>221668350.000000000000</td>\n",
       "      <td>3719529.000000000000</td>\n",
       "      <td>312224877.641376078129</td>\n",
       "    </tr>\n",
       "    <tr>\n",
       "      <th>totalDstBytes</th>\n",
       "      <td>14260596.000000000000</td>\n",
       "      <td>245418.000000000000</td>\n",
       "      <td>711543365.111569285393</td>\n",
       "    </tr>\n",
       "    <tr>\n",
       "      <th>avgConBytes</th>\n",
       "      <td>3478.546620665251</td>\n",
       "      <td>927.472982456140</td>\n",
       "      <td>108500.312782848734</td>\n",
       "    </tr>\n",
       "    <tr>\n",
       "      <th>avgSrcBytes</th>\n",
       "      <td>3268.287774239207</td>\n",
       "      <td>870.065263157895</td>\n",
       "      <td>45196.541801580788</td>\n",
       "    </tr>\n",
       "    <tr>\n",
       "      <th>avgDstBytes</th>\n",
       "      <td>210.258846426044</td>\n",
       "      <td>57.407719298246</td>\n",
       "      <td>63303.770981268557</td>\n",
       "    </tr>\n",
       "    <tr>\n",
       "      <th>destinationCount</th>\n",
       "      <td>17.000000000000</td>\n",
       "      <td>9.000000000000</td>\n",
       "      <td>24.603440150801</td>\n",
       "    </tr>\n",
       "    <tr>\n",
       "      <th>destinationPortCount</th>\n",
       "      <td>16.000000000000</td>\n",
       "      <td>15.000000000000</td>\n",
       "      <td>39.534519321395</td>\n",
       "    </tr>\n",
       "    <tr>\n",
       "      <th>minTime</th>\n",
       "      <td>7689600.000000000000</td>\n",
       "      <td>7689649.000000000000</td>\n",
       "      <td>7690658.256244109012</td>\n",
       "    </tr>\n",
       "    <tr>\n",
       "      <th>maxTime</th>\n",
       "      <td>7775516.000000000000</td>\n",
       "      <td>7775509.000000000000</td>\n",
       "      <td>7773854.294180018827</td>\n",
       "    </tr>\n",
       "    <tr>\n",
       "      <th>avgDuration</th>\n",
       "      <td>357.040678815758</td>\n",
       "      <td>65.393450292398</td>\n",
       "      <td>197.188236220564</td>\n",
       "    </tr>\n",
       "    <tr>\n",
       "      <th>maxDuration</th>\n",
       "      <td>63596.000000000000</td>\n",
       "      <td>31210.000000000000</td>\n",
       "      <td>35634.471489161166</td>\n",
       "    </tr>\n",
       "    <tr>\n",
       "      <th>countShortConnections</th>\n",
       "      <td>64065.000000000000</td>\n",
       "      <td>2892.000000000000</td>\n",
       "      <td>4675.102262016965</td>\n",
       "    </tr>\n",
       "    <tr>\n",
       "      <th>sumKerberosEventCount</th>\n",
       "      <td>112.000000000000</td>\n",
       "      <td>80.000000000000</td>\n",
       "      <td>199.861804901037</td>\n",
       "    </tr>\n",
       "    <tr>\n",
       "      <th>sumauthLikeEventCount</th>\n",
       "      <td>59927.000000000000</td>\n",
       "      <td>1849.000000000000</td>\n",
       "      <td>2679.061852026390</td>\n",
       "    </tr>\n",
       "    <tr>\n",
       "      <th>sumauthFailedEventCount</th>\n",
       "      <td>58899.000000000000</td>\n",
       "      <td>0.000000000000</td>\n",
       "      <td>14.497172478794</td>\n",
       "    </tr>\n",
       "    <tr>\n",
       "      <th>sumspecialPrivEventCount</th>\n",
       "      <td>42.000000000000</td>\n",
       "      <td>21.000000000000</td>\n",
       "      <td>353.016022620170</td>\n",
       "    </tr>\n",
       "    <tr>\n",
       "      <th>sumprocessEventCount</th>\n",
       "      <td>850.000000000000</td>\n",
       "      <td>1067251.000000000000</td>\n",
       "      <td>1434.361922714420</td>\n",
       "    </tr>\n",
       "    <tr>\n",
       "      <th>sumhostCount</th>\n",
       "      <td>8.000000000000</td>\n",
       "      <td>6.000000000000</td>\n",
       "      <td>8.457822808671</td>\n",
       "    </tr>\n",
       "    <tr>\n",
       "      <th>sumsessionCount</th>\n",
       "      <td>926.000000000000</td>\n",
       "      <td>1742.000000000000</td>\n",
       "      <td>1956.246701225259</td>\n",
       "    </tr>\n",
       "    <tr>\n",
       "      <th>sumeventcount</th>\n",
       "      <td>60931.000000000000</td>\n",
       "      <td>1069201.000000000000</td>\n",
       "      <td>4666.706644674835</td>\n",
       "    </tr>\n",
       "    <tr>\n",
       "      <th>sumprocessCount</th>\n",
       "      <td>439.000000000000</td>\n",
       "      <td>2819.000000000000</td>\n",
       "      <td>463.421771913289</td>\n",
       "    </tr>\n",
       "    <tr>\n",
       "      <th>sumprocessNameCount</th>\n",
       "      <td>30.000000000000</td>\n",
       "      <td>43.000000000000</td>\n",
       "      <td>26.046536286522</td>\n",
       "    </tr>\n",
       "    <tr>\n",
       "      <th>sumParentProcessNameCount</th>\n",
       "      <td>14.000000000000</td>\n",
       "      <td>15.000000000000</td>\n",
       "      <td>11.811498586239</td>\n",
       "    </tr>\n",
       "    <tr>\n",
       "      <th>sumParentProcessIDCount</th>\n",
       "      <td>62.000000000000</td>\n",
       "      <td>2827.000000000000</td>\n",
       "      <td>58.708411875589</td>\n",
       "    </tr>\n",
       "    <tr>\n",
       "      <th>summinTime</th>\n",
       "      <td>23071408.000000000000</td>\n",
       "      <td>30794294.000000000000</td>\n",
       "      <td>44221677.633836001158</td>\n",
       "    </tr>\n",
       "    <tr>\n",
       "      <th>summaxTime</th>\n",
       "      <td>23316656.000000000000</td>\n",
       "      <td>31029626.000000000000</td>\n",
       "      <td>44579359.233977377415</td>\n",
       "    </tr>\n",
       "    <tr>\n",
       "      <th>avgfailedEventCount</th>\n",
       "      <td>58899.000000000000</td>\n",
       "      <td>0.000000000000</td>\n",
       "      <td>14.497172478794</td>\n",
       "    </tr>\n",
       "    <tr>\n",
       "      <th>avgKerberosEventCount</th>\n",
       "      <td>37.333333333333</td>\n",
       "      <td>20.000000000000</td>\n",
       "      <td>36.193270437007</td>\n",
       "    </tr>\n",
       "    <tr>\n",
       "      <th>avgauthLikeEventCount</th>\n",
       "      <td>19975.666666666668</td>\n",
       "      <td>462.250000000000</td>\n",
       "      <td>349.152694848690</td>\n",
       "    </tr>\n",
       "    <tr>\n",
       "      <th>avgauthFailedEventCount</th>\n",
       "      <td>19633.000000000000</td>\n",
       "      <td>0.000000000000</td>\n",
       "      <td>4.599423363492</td>\n",
       "    </tr>\n",
       "    <tr>\n",
       "      <th>avgspecialPrivEventCount</th>\n",
       "      <td>14.000000000000</td>\n",
       "      <td>5.250000000000</td>\n",
       "      <td>20.606178589675</td>\n",
       "    </tr>\n",
       "    <tr>\n",
       "      <th>avgprocessEventCount</th>\n",
       "      <td>283.333333333333</td>\n",
       "      <td>266812.750000000000</td>\n",
       "      <td>457.600565897226</td>\n",
       "    </tr>\n",
       "    <tr>\n",
       "      <th>avghostCount</th>\n",
       "      <td>2.666666666667</td>\n",
       "      <td>1.500000000000</td>\n",
       "      <td>1.917290309320</td>\n",
       "    </tr>\n",
       "    <tr>\n",
       "      <th>avgsessionCount</th>\n",
       "      <td>308.666666666667</td>\n",
       "      <td>435.500000000000</td>\n",
       "      <td>247.840773600126</td>\n",
       "    </tr>\n",
       "    <tr>\n",
       "      <th>avgeventcount</th>\n",
       "      <td>20310.333333333332</td>\n",
       "      <td>267300.250000000000</td>\n",
       "      <td>863.656537606421</td>\n",
       "    </tr>\n",
       "    <tr>\n",
       "      <th>avgprocessCount</th>\n",
       "      <td>146.333333333333</td>\n",
       "      <td>704.750000000000</td>\n",
       "      <td>176.176657303764</td>\n",
       "    </tr>\n",
       "    <tr>\n",
       "      <th>avgprocessNameCount</th>\n",
       "      <td>10.000000000000</td>\n",
       "      <td>10.750000000000</td>\n",
       "      <td>9.702783469994</td>\n",
       "    </tr>\n",
       "    <tr>\n",
       "      <th>avgParentProcessNameCount</th>\n",
       "      <td>4.666666666667</td>\n",
       "      <td>3.750000000000</td>\n",
       "      <td>4.386046614500</td>\n",
       "    </tr>\n",
       "    <tr>\n",
       "      <th>avgParentProcessIDCount</th>\n",
       "      <td>20.666666666667</td>\n",
       "      <td>706.750000000000</td>\n",
       "      <td>19.862594319383</td>\n",
       "    </tr>\n",
       "    <tr>\n",
       "      <th>avgminTime</th>\n",
       "      <td>7690469.333333333023</td>\n",
       "      <td>7698573.500000000000</td>\n",
       "      <td>7697342.385771829635</td>\n",
       "    </tr>\n",
       "    <tr>\n",
       "      <th>avgmaxTime</th>\n",
       "      <td>7772218.666666666977</td>\n",
       "      <td>7757406.500000000000</td>\n",
       "      <td>7765155.379101084545</td>\n",
       "    </tr>\n",
       "    <tr>\n",
       "      <th>avgfailedEventCount</th>\n",
       "      <td>19633.000000000000</td>\n",
       "      <td>0.000000000000</td>\n",
       "      <td>4.599423363492</td>\n",
       "    </tr>\n",
       "    <tr>\n",
       "      <th>cluster</th>\n",
       "      <td>0.000000000000</td>\n",
       "      <td>0.000000000000</td>\n",
       "      <td>0.141493873704</td>\n",
       "    </tr>\n",
       "    <tr>\n",
       "      <th>distanceToClusterCenter</th>\n",
       "      <td>190763.507470000011</td>\n",
       "      <td>124569.465830000001</td>\n",
       "      <td>56499.073232131130</td>\n",
       "    </tr>\n",
       "    <tr>\n",
       "      <th>RiskScore</th>\n",
       "      <td>70.735459161231</td>\n",
       "      <td>35.884751903934</td>\n",
       "      <td>0.089847761047</td>\n",
       "    </tr>\n",
       "    <tr>\n",
       "      <th>zScoreDistance</th>\n",
       "      <td>70.735459161231</td>\n",
       "      <td>35.884751903934</td>\n",
       "      <td>0.000000000000</td>\n",
       "    </tr>\n",
       "  </tbody>\n",
       "</table>\n",
       "</div>"
      ],
      "text/plain": [
       "                           (Comp207493, Comp207493)  (Comp897367, Comp897367)  \\\n",
       "totalPackets                    561684.000000000000        17130.000000000000   \n",
       "totalSrcPackets                 418924.000000000000        16662.000000000000   \n",
       "totalDstPackets                 142760.000000000000          468.000000000000   \n",
       "avgConPackets                        8.281493276716            4.007017543860   \n",
       "avgSrcPackets                        6.176633640009            3.897543859649   \n",
       "avgDstPackets                        2.104859636707            0.109473684211   \n",
       "totalBytes                   235928946.000000000000      3964947.000000000000   \n",
       "totalSrcBytes                221668350.000000000000      3719529.000000000000   \n",
       "totalDstBytes                 14260596.000000000000       245418.000000000000   \n",
       "avgConBytes                       3478.546620665251          927.472982456140   \n",
       "avgSrcBytes                       3268.287774239207          870.065263157895   \n",
       "avgDstBytes                        210.258846426044           57.407719298246   \n",
       "destinationCount                    17.000000000000            9.000000000000   \n",
       "destinationPortCount                16.000000000000           15.000000000000   \n",
       "minTime                        7689600.000000000000      7689649.000000000000   \n",
       "maxTime                        7775516.000000000000      7775509.000000000000   \n",
       "avgDuration                        357.040678815758           65.393450292398   \n",
       "maxDuration                      63596.000000000000        31210.000000000000   \n",
       "countShortConnections            64065.000000000000         2892.000000000000   \n",
       "sumKerberosEventCount              112.000000000000           80.000000000000   \n",
       "sumauthLikeEventCount            59927.000000000000         1849.000000000000   \n",
       "sumauthFailedEventCount          58899.000000000000            0.000000000000   \n",
       "sumspecialPrivEventCount            42.000000000000           21.000000000000   \n",
       "sumprocessEventCount               850.000000000000      1067251.000000000000   \n",
       "sumhostCount                         8.000000000000            6.000000000000   \n",
       "sumsessionCount                    926.000000000000         1742.000000000000   \n",
       "sumeventcount                    60931.000000000000      1069201.000000000000   \n",
       "sumprocessCount                    439.000000000000         2819.000000000000   \n",
       "sumprocessNameCount                 30.000000000000           43.000000000000   \n",
       "sumParentProcessNameCount           14.000000000000           15.000000000000   \n",
       "sumParentProcessIDCount             62.000000000000         2827.000000000000   \n",
       "summinTime                    23071408.000000000000     30794294.000000000000   \n",
       "summaxTime                    23316656.000000000000     31029626.000000000000   \n",
       "avgfailedEventCount              58899.000000000000            0.000000000000   \n",
       "avgKerberosEventCount               37.333333333333           20.000000000000   \n",
       "avgauthLikeEventCount            19975.666666666668          462.250000000000   \n",
       "avgauthFailedEventCount          19633.000000000000            0.000000000000   \n",
       "avgspecialPrivEventCount            14.000000000000            5.250000000000   \n",
       "avgprocessEventCount               283.333333333333       266812.750000000000   \n",
       "avghostCount                         2.666666666667            1.500000000000   \n",
       "avgsessionCount                    308.666666666667          435.500000000000   \n",
       "avgeventcount                    20310.333333333332       267300.250000000000   \n",
       "avgprocessCount                    146.333333333333          704.750000000000   \n",
       "avgprocessNameCount                 10.000000000000           10.750000000000   \n",
       "avgParentProcessNameCount            4.666666666667            3.750000000000   \n",
       "avgParentProcessIDCount             20.666666666667          706.750000000000   \n",
       "avgminTime                     7690469.333333333023      7698573.500000000000   \n",
       "avgmaxTime                     7772218.666666666977      7757406.500000000000   \n",
       "avgfailedEventCount              19633.000000000000            0.000000000000   \n",
       "cluster                              0.000000000000            0.000000000000   \n",
       "distanceToClusterCenter         190763.507470000011       124569.465830000001   \n",
       "RiskScore                           70.735459161231           35.884751903934   \n",
       "zScoreDistance                      70.735459161231           35.884751903934   \n",
       "\n",
       "                                             mean  \n",
       "totalPackets                 1744320.792766258353  \n",
       "totalSrcPackets              1013724.728440150851  \n",
       "totalDstPackets               730596.064326107502  \n",
       "avgConPackets                    248.595576344858  \n",
       "avgSrcPackets                    174.000509063199  \n",
       "avgDstPackets                     74.595067281659  \n",
       "totalBytes                1023768242.752945303917  \n",
       "totalSrcBytes              312224877.641376078129  \n",
       "totalDstBytes              711543365.111569285393  \n",
       "avgConBytes                   108500.312782848734  \n",
       "avgSrcBytes                    45196.541801580788  \n",
       "avgDstBytes                    63303.770981268557  \n",
       "destinationCount                  24.603440150801  \n",
       "destinationPortCount              39.534519321395  \n",
       "minTime                      7690658.256244109012  \n",
       "maxTime                      7773854.294180018827  \n",
       "avgDuration                      197.188236220564  \n",
       "maxDuration                    35634.471489161166  \n",
       "countShortConnections           4675.102262016965  \n",
       "sumKerberosEventCount            199.861804901037  \n",
       "sumauthLikeEventCount           2679.061852026390  \n",
       "sumauthFailedEventCount           14.497172478794  \n",
       "sumspecialPrivEventCount         353.016022620170  \n",
       "sumprocessEventCount            1434.361922714420  \n",
       "sumhostCount                       8.457822808671  \n",
       "sumsessionCount                 1956.246701225259  \n",
       "sumeventcount                   4666.706644674835  \n",
       "sumprocessCount                  463.421771913289  \n",
       "sumprocessNameCount               26.046536286522  \n",
       "sumParentProcessNameCount         11.811498586239  \n",
       "sumParentProcessIDCount           58.708411875589  \n",
       "summinTime                  44221677.633836001158  \n",
       "summaxTime                  44579359.233977377415  \n",
       "avgfailedEventCount               14.497172478794  \n",
       "avgKerberosEventCount             36.193270437007  \n",
       "avgauthLikeEventCount            349.152694848690  \n",
       "avgauthFailedEventCount            4.599423363492  \n",
       "avgspecialPrivEventCount          20.606178589675  \n",
       "avgprocessEventCount             457.600565897226  \n",
       "avghostCount                       1.917290309320  \n",
       "avgsessionCount                  247.840773600126  \n",
       "avgeventcount                    863.656537606421  \n",
       "avgprocessCount                  176.176657303764  \n",
       "avgprocessNameCount                9.702783469994  \n",
       "avgParentProcessNameCount          4.386046614500  \n",
       "avgParentProcessIDCount           19.862594319383  \n",
       "avgminTime                   7697342.385771829635  \n",
       "avgmaxTime                   7765155.379101084545  \n",
       "avgfailedEventCount                4.599423363492  \n",
       "cluster                            0.141493873704  \n",
       "distanceToClusterCenter        56499.073232131130  \n",
       "RiskScore                          0.089847761047  \n",
       "zScoreDistance                     0.000000000000  "
      ]
     },
     "execution_count": 65,
     "metadata": {},
     "output_type": "execute_result"
    }
   ],
   "source": [
    "pd.set_option('display.float_format', lambda x: '%.12f' % x)\n",
    "a = clusteredData[clusteredData.RiskScore>3].sort_values('RiskScore', ascending=False).head(2).T\n",
    "b=pd.concat([a, clusteredData.describe().loc['mean']], axis=1)\n",
    "b"
   ]
  },
  {
   "cell_type": "markdown",
   "id": "e19552a6-d186-4a2d-a4c3-20c4a9a937aa",
   "metadata": {},
   "source": [
    "# Summary\n",
    "\n",
    "Over the course of this document, we have demonstrated an effective base method of extracting, transforming clustering and detecting outliers from the netflow and host event data. By no means would I consider this a final model but for the purposes of demonstrating my skillset and knowledge, I think this does quite well. The final model is a K-means clustering algorithm that places devices into 5 clusters, then compares devices to other devices in their own cluster by calculating the distance to the center of the cluster and detecting outliers of each cluster based on that. Over the process of the ETL and data exploration, we demonstrated the use of efficient and scalable computing technologies but using Apache Spark to process the rather large initial files and record counts. \n",
    "\n",
    "Additional action items given more time:\n",
    " - Extracting feature importances from the model and function that identifies features that contribute most to a risk score for an individual observation. \n",
    " - Additional feature engineering is always time well spent. Input on potential useful(or useless) features from subject matter experts could improve effectiveness significantly. \n",
    " - More sophisticated clustering and outlier techniques can be experimented with. Perhaps creating a ensemble approach where multiple models score devices from different perspectives. However, close attention should be paid to scope, complexity and understandability. \n",
    "\n",
    " "
   ]
  },
  {
   "cell_type": "markdown",
   "id": "2347199c-10a6-426c-a71b-3bed01e0a609",
   "metadata": {},
   "source": [
    "## Packages Used \n",
    "\n",
    "I was able to use a useful package called pipreqs that takes the directory of a project and generates the requirements.txt file based on imports. Summary below.\n",
    "\n",
    "- For Interactive programming and analysis\n",
    "     - ipython==7.30.1\n",
    "     - jedi==0.18.0\n",
    " - For parallelized processing of data\n",
    "     - pyspark==3.2.0\n",
    "     - pyspark.egg==info\n",
    "- For working with data and implementing models     \n",
    "     - numpy==1.20.3\n",
    "     - pandas==1.3.4\n",
    "     - scikit_learn==1.0.1\n",
    " - For creating highly customized visualizations\n",
    "     - seaborn==0.11.2\n",
    "     - matplotlib==3.4.3\n",
    "\n"
   ]
  },
  {
   "cell_type": "code",
   "execution_count": 66,
   "id": "3650d0c3-5d18-4083-812e-953dadbc141e",
   "metadata": {},
   "outputs": [
    {
     "name": "stdout",
     "output_type": "stream",
     "text": [
      "ipython==7.30.1\n",
      "jedi==0.18.0\n",
      "matplotlib==3.4.3\n",
      "numpy==1.20.3\n",
      "pandas==1.3.4\n",
      "pyspark==3.2.0\n",
      "pyspark.egg==info\n",
      "scikit_learn==1.0.1\n",
      "seaborn==0.11.2\n",
      "\n"
     ]
    }
   ],
   "source": [
    "#open text file in read mode\n",
    "text_file = open(\"requirements.txt\", \"r\")\n",
    " \n",
    "#read whole file to a string\n",
    "data = text_file.read()\n",
    " \n",
    "#close file\n",
    "text_file.close()\n",
    " \n",
    "print(data)"
   ]
  }
 ],
 "metadata": {
  "kernelspec": {
   "display_name": "Python 3 (ipykernel)",
   "language": "python",
   "name": "python3"
  },
  "language_info": {
   "codemirror_mode": {
    "name": "ipython",
    "version": 3
   },
   "file_extension": ".py",
   "mimetype": "text/x-python",
   "name": "python",
   "nbconvert_exporter": "python",
   "pygments_lexer": "ipython3",
   "version": "3.9.7"
  }
 },
 "nbformat": 4,
 "nbformat_minor": 5
}
